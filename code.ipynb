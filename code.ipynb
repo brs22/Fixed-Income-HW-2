{
  "cells": [
    {
      "attachments": {},
      "cell_type": "markdown",
      "metadata": {
        "id": "BJt6LefQYYVd"
      },
      "source": [
        "# *Fixed Income - Homework 2*"
      ]
    },
    {
      "cell_type": "markdown",
      "metadata": {
        "id": "wvWwl9YqmWMv"
      },
      "source": [
        "# 1. Consider the following bonds (each with a face value of $100 and annual coupon payments)"
      ]
    },
    {
      "cell_type": "markdown",
      "metadata": {
        "id": "awvWa45PdBp4"
      },
      "source": [
        "|Bond Name|Maturity|Coupon Rate(%)|YTM(%)|\n",
        "|:--------|:-------|:-------------|:-----|\n",
        "| Athens  | 1 Year | 2.0          | 4.0  |\n",
        "| Belgrade| 1 Year | 6.0          | 4.0  |\n",
        "| Canberra| 5 Year | 2.0          | 4.0  |\n",
        "| Dublin  | 5 Year | 6.0          | 4.0  |\n",
        "|Edinburgh|10 Years| 2.0          | 4.0  |\n",
        "| Freetown|10 Years| 6.0          | 4.0  |\n",
        "|Georgetown| 20 Years | 2.0          | 4.0  |\n",
        "| Havana  | 20 Years | 6.0          | 4.0  |\n"
      ]
    },
    {
      "cell_type": "markdown",
      "metadata": {
        "id": "FP0gmZOKYrLi"
      },
      "source": [
        "## (a) Compute the price, duration, and convexity for each of these bonds assuming (1) semi-annual, and (2) continuous compounding frequency."
      ]
    },
    {
      "cell_type": "markdown",
      "metadata": {
        "id": "E1C8Ye9m2FQq"
      },
      "source": [
        "In case of **discrete compounding** with $m$ annual compounding periods, price, duration and convexity of a bond, as a function of a cash flow $CF$ and yield $y$, are\n",
        "$$ Price(CF, y) = \\sum_{j=1}^{n} \\frac{CF_j}{(1+y/m)^{jm}} $$\n",
        "$$ \\$ Duration(CF, y) = \\frac{d}{dy}P = \\sum_{j=1}^{n} \\frac{-j \\cdot CF_j}{(1+y/m)^{jm+1}} $$\n",
        "$$ \\$ Convexity(CF, y) = \\frac{d}{dy} \\$ Duration = \\sum_{j=1}^{n} \\frac{j(jm+1) \\cdot CF_j}{m (1+y/m)^{jm+2}} $$\n",
        "\n",
        "In case of **continuos compounding** with, price, duration and convexity of a bond are:\n",
        "$$ Price(CF, y) = \\sum_{j=1}^{n} CF_j e^{-y \\cdot j} $$\n",
        "$$ \\$ Duration(CF, y) = \\frac{d}{dy}P = \\sum_{j=1}^{n}  CF_j \\cdot (-j) e^{-y \\cdot j}  $$\n",
        "$$ \\$ Convexity(CF, y) = \\frac{d}{dy} \\$ Duration = \\sum_{j=1}^{n}  CF_j \\cdot j^2 e^{-y \\cdot j} $$\n",
        "\n",
        "**WARNING:** $j$ in definition above is **not the same** as $i$ in functions below. Actually, mapping between the two is $j = i+1$ because $i$ below starts counting from 0.\n",
        "\n",
        "\n",
        "**Macaulay Duration** for two compounding approaches ($m$-annual and continuous) are \\[ovo sam izveo, proverio sa Vasiljevicem, i proverio sa wikipediom https://en.wikipedia.org/wiki/Bond_duration ]\n",
        "\n",
        "$$ MacD(CF, y) = \\sum_{j=1}^{n} \\frac{j \\cdot CF_j}{P(1+y/m)^{jm+1}} $$\n",
        "\n",
        "$$ MacD(CF, y) = \\sum_{j=1}^{n} \\frac{j \\cdot CF_j \\cdot e^{-y \\cdot j}}{P}  $$\n",
        "\n"
      ]
    },
    {
      "cell_type": "code",
      "execution_count": 1,
      "metadata": {
        "id": "L-1_XOAA9X4o"
      },
      "outputs": [],
      "source": [
        "import numpy as np\n",
        "import math\n",
        "import pandas as pd\n",
        "\n",
        "def generate_cash_flows(maturity, coupon_rate, num_annual_payments: int=1, principle=100):\n",
        "    \"\"\"Generates list of coupon payments, and coupon + principal as the last element of the list\n",
        "    \n",
        "    maturity : float\n",
        "      has to have following property: (maturity * num_annual_payments) should be int, or convertable to int without truncation\n",
        "\n",
        "    coupon_rate : float\n",
        "      must be in natural units, not in percents\n",
        "    \"\"\"\n",
        "    number_of_coupons = int(maturity * num_annual_payments)\n",
        "    single_coupon_value = coupon_rate * principle / num_annual_payments\n",
        "    cash_flows = [single_coupon_value] * number_of_coupons \n",
        "    cash_flows[-1] = cash_flows[-1] + principle\n",
        "    return cash_flows\n",
        "\n",
        "def present_value(cash_flows, ytm, compounding_freq = 2):\n",
        "    \"\"\"\n",
        "    cash_flows : list\n",
        "      annual cuoun payemnts and the principal+coupon at the end\n",
        "\n",
        "    ymt : double\n",
        "     yeild to maturuty. Must be in decimal form (natural units), i.e. if YTM is 4%, then 'ytm' must be ytm = .04  \n",
        "\n",
        "    compounding_freq : int\n",
        "      Annual compounding / discounging frequency. Variable 'm' form lectures (slides)\n",
        "\n",
        "      compounding_freq = 2 - semi-annual compounding \n",
        "      compounding_freq = 0 - continuous compounding \n",
        "    \"\"\"\n",
        "    if compounding_freq:\n",
        "        discounted_payments = [cash_flows[i] / ((1+ytm/compounding_freq)**(compounding_freq*(i+1))) for i in range(len(cash_flows))]\n",
        "    else: # continuous compounding case\n",
        "        discounted_payments = [cash_flows[i] * math.e**(-(i+1)*ytm ) for i in range(len(cash_flows))]\n",
        "    return sum(discounted_payments)\n",
        "\n",
        "def duration(cash_flows, ytm, compounding_freq = 2):\n",
        "    \"\"\"analogues to 'present_value' function\"\"\"\n",
        "    if compounding_freq:\n",
        "        discounted_payments = [cash_flows[i] * (-i-1) / ((1+ytm/compounding_freq)**(compounding_freq*(i+1)+1)) for i in range(len(cash_flows))]\n",
        "    else:\n",
        "        discounted_payments = [cash_flows[i] * (-(i+1)) * (math.e**(-(i+1)*ytm)) for i in range(len(cash_flows))]\n",
        "    return sum(discounted_payments)\n",
        "\n",
        "def MacDuration(cash_flows, ytm, compounding_freq = 2):\n",
        "    \"\"\"analogues to 'present_value' function\"\"\"\n",
        "    if compounding_freq:\n",
        "        discounted_payments = [cash_flows[i] * (i+1) / (((1+ytm/compounding_freq)**(compounding_freq*(i+1)+1)) * present_value(cash_flows, ytm, compounding_freq)) for i in range(len(cash_flows))]\n",
        "    else:\n",
        "        discounted_payments = [cash_flows[i] * ((i+1)) * (math.e**(-(i+1)*ytm)) / present_value(cash_flows, ytm, compounding_freq) for i in range(len(cash_flows))]\n",
        "    return sum(discounted_payments)\n",
        "\n",
        "def convexity(cash_flows, ytm, compounding_freq = 2):\n",
        "    \"\"\"analogues to 'present_value' function\"\"\"\n",
        "    if compounding_freq:\n",
        "        discounted_payments = [cash_flows[i] *  (i+1) * ((i+1)*compounding_freq+1) / (compounding_freq * (1+ytm/compounding_freq)**(compounding_freq*(i+1)+2)) for i in range(len(cash_flows))]\n",
        "    else:\n",
        "        discounted_payments = [cash_flows[i] * ((i+1)**2) * (math.e**(-(i+1)*ytm)) for i in range(len(cash_flows))]\n",
        "    return sum(discounted_payments)"
      ]
    },
    {
      "cell_type": "code",
      "execution_count": 2,
      "metadata": {
        "colab": {
          "base_uri": "https://localhost:8080/",
          "height": 300
        },
        "id": "YNgdBIoe9Xri",
        "outputId": "cf11de49-03a6-4d48-c8b1-21f385c04da3"
      },
      "outputs": [
        {
          "data": {
            "text/html": [
              "\n",
              "  <div id=\"df-f07d81fd-3960-45b6-9917-60e4aaeae4af\">\n",
              "    <div class=\"colab-df-container\">\n",
              "      <div>\n",
              "<style scoped>\n",
              "    .dataframe tbody tr th:only-of-type {\n",
              "        vertical-align: middle;\n",
              "    }\n",
              "\n",
              "    .dataframe tbody tr th {\n",
              "        vertical-align: top;\n",
              "    }\n",
              "\n",
              "    .dataframe thead th {\n",
              "        text-align: right;\n",
              "    }\n",
              "</style>\n",
              "<table border=\"1\" class=\"dataframe\">\n",
              "  <thead>\n",
              "    <tr style=\"text-align: right;\">\n",
              "      <th></th>\n",
              "      <th>name</th>\n",
              "      <th>maturity</th>\n",
              "      <th>coupon_rate</th>\n",
              "      <th>ytm</th>\n",
              "    </tr>\n",
              "  </thead>\n",
              "  <tbody>\n",
              "    <tr>\n",
              "      <th>0</th>\n",
              "      <td>Athens</td>\n",
              "      <td>1</td>\n",
              "      <td>2</td>\n",
              "      <td>4</td>\n",
              "    </tr>\n",
              "    <tr>\n",
              "      <th>1</th>\n",
              "      <td>Belgrade</td>\n",
              "      <td>1</td>\n",
              "      <td>6</td>\n",
              "      <td>4</td>\n",
              "    </tr>\n",
              "    <tr>\n",
              "      <th>2</th>\n",
              "      <td>Canberra</td>\n",
              "      <td>5</td>\n",
              "      <td>2</td>\n",
              "      <td>4</td>\n",
              "    </tr>\n",
              "    <tr>\n",
              "      <th>3</th>\n",
              "      <td>Dublin</td>\n",
              "      <td>5</td>\n",
              "      <td>6</td>\n",
              "      <td>4</td>\n",
              "    </tr>\n",
              "    <tr>\n",
              "      <th>4</th>\n",
              "      <td>Edinburgh</td>\n",
              "      <td>10</td>\n",
              "      <td>2</td>\n",
              "      <td>4</td>\n",
              "    </tr>\n",
              "    <tr>\n",
              "      <th>5</th>\n",
              "      <td>Freetown</td>\n",
              "      <td>10</td>\n",
              "      <td>6</td>\n",
              "      <td>4</td>\n",
              "    </tr>\n",
              "    <tr>\n",
              "      <th>6</th>\n",
              "      <td>Georgetown</td>\n",
              "      <td>20</td>\n",
              "      <td>2</td>\n",
              "      <td>4</td>\n",
              "    </tr>\n",
              "    <tr>\n",
              "      <th>7</th>\n",
              "      <td>Havana</td>\n",
              "      <td>20</td>\n",
              "      <td>6</td>\n",
              "      <td>4</td>\n",
              "    </tr>\n",
              "  </tbody>\n",
              "</table>\n",
              "</div>\n",
              "      <button class=\"colab-df-convert\" onclick=\"convertToInteractive('df-f07d81fd-3960-45b6-9917-60e4aaeae4af')\"\n",
              "              title=\"Convert this dataframe to an interactive table.\"\n",
              "              style=\"display:none;\">\n",
              "        \n",
              "  <svg xmlns=\"http://www.w3.org/2000/svg\" height=\"24px\"viewBox=\"0 0 24 24\"\n",
              "       width=\"24px\">\n",
              "    <path d=\"M0 0h24v24H0V0z\" fill=\"none\"/>\n",
              "    <path d=\"M18.56 5.44l.94 2.06.94-2.06 2.06-.94-2.06-.94-.94-2.06-.94 2.06-2.06.94zm-11 1L8.5 8.5l.94-2.06 2.06-.94-2.06-.94L8.5 2.5l-.94 2.06-2.06.94zm10 10l.94 2.06.94-2.06 2.06-.94-2.06-.94-.94-2.06-.94 2.06-2.06.94z\"/><path d=\"M17.41 7.96l-1.37-1.37c-.4-.4-.92-.59-1.43-.59-.52 0-1.04.2-1.43.59L10.3 9.45l-7.72 7.72c-.78.78-.78 2.05 0 2.83L4 21.41c.39.39.9.59 1.41.59.51 0 1.02-.2 1.41-.59l7.78-7.78 2.81-2.81c.8-.78.8-2.07 0-2.86zM5.41 20L4 18.59l7.72-7.72 1.47 1.35L5.41 20z\"/>\n",
              "  </svg>\n",
              "      </button>\n",
              "      \n",
              "  <style>\n",
              "    .colab-df-container {\n",
              "      display:flex;\n",
              "      flex-wrap:wrap;\n",
              "      gap: 12px;\n",
              "    }\n",
              "\n",
              "    .colab-df-convert {\n",
              "      background-color: #E8F0FE;\n",
              "      border: none;\n",
              "      border-radius: 50%;\n",
              "      cursor: pointer;\n",
              "      display: none;\n",
              "      fill: #1967D2;\n",
              "      height: 32px;\n",
              "      padding: 0 0 0 0;\n",
              "      width: 32px;\n",
              "    }\n",
              "\n",
              "    .colab-df-convert:hover {\n",
              "      background-color: #E2EBFA;\n",
              "      box-shadow: 0px 1px 2px rgba(60, 64, 67, 0.3), 0px 1px 3px 1px rgba(60, 64, 67, 0.15);\n",
              "      fill: #174EA6;\n",
              "    }\n",
              "\n",
              "    [theme=dark] .colab-df-convert {\n",
              "      background-color: #3B4455;\n",
              "      fill: #D2E3FC;\n",
              "    }\n",
              "\n",
              "    [theme=dark] .colab-df-convert:hover {\n",
              "      background-color: #434B5C;\n",
              "      box-shadow: 0px 1px 3px 1px rgba(0, 0, 0, 0.15);\n",
              "      filter: drop-shadow(0px 1px 2px rgba(0, 0, 0, 0.3));\n",
              "      fill: #FFFFFF;\n",
              "    }\n",
              "  </style>\n",
              "\n",
              "      <script>\n",
              "        const buttonEl =\n",
              "          document.querySelector('#df-f07d81fd-3960-45b6-9917-60e4aaeae4af button.colab-df-convert');\n",
              "        buttonEl.style.display =\n",
              "          google.colab.kernel.accessAllowed ? 'block' : 'none';\n",
              "\n",
              "        async function convertToInteractive(key) {\n",
              "          const element = document.querySelector('#df-f07d81fd-3960-45b6-9917-60e4aaeae4af');\n",
              "          const dataTable =\n",
              "            await google.colab.kernel.invokeFunction('convertToInteractive',\n",
              "                                                     [key], {});\n",
              "          if (!dataTable) return;\n",
              "\n",
              "          const docLinkHtml = 'Like what you see? Visit the ' +\n",
              "            '<a target=\"_blank\" href=https://colab.research.google.com/notebooks/data_table.ipynb>data table notebook</a>'\n",
              "            + ' to learn more about interactive tables.';\n",
              "          element.innerHTML = '';\n",
              "          dataTable['output_type'] = 'display_data';\n",
              "          await google.colab.output.renderOutput(dataTable, element);\n",
              "          const docLink = document.createElement('div');\n",
              "          docLink.innerHTML = docLinkHtml;\n",
              "          element.appendChild(docLink);\n",
              "        }\n",
              "      </script>\n",
              "    </div>\n",
              "  </div>\n",
              "  "
            ],
            "text/plain": [
              "         name  maturity  coupon_rate  ytm\n",
              "0      Athens         1            2    4\n",
              "1    Belgrade         1            6    4\n",
              "2    Canberra         5            2    4\n",
              "3      Dublin         5            6    4\n",
              "4   Edinburgh        10            2    4\n",
              "5    Freetown        10            6    4\n",
              "6  Georgetown        20            2    4\n",
              "7      Havana        20            6    4"
            ]
          },
          "execution_count": 2,
          "metadata": {},
          "output_type": "execute_result"
        }
      ],
      "source": [
        "# import 'table1.csv' provided in email\n",
        "df = pd.read_csv(\"table1.csv\")\n",
        "df"
      ]
    },
    {
      "cell_type": "code",
      "execution_count": 3,
      "metadata": {
        "colab": {
          "base_uri": "https://localhost:8080/",
          "height": 364
        },
        "id": "kOka6TCw9XiO",
        "outputId": "a9883924-1066-44ba-9439-81a21ea91775"
      },
      "outputs": [
        {
          "data": {
            "text/html": [
              "\n",
              "  <div id=\"df-6867c8fd-926c-4f14-9f13-b0ae3c1f4398\">\n",
              "    <div class=\"colab-df-container\">\n",
              "      <div>\n",
              "<style scoped>\n",
              "    .dataframe tbody tr th:only-of-type {\n",
              "        vertical-align: middle;\n",
              "    }\n",
              "\n",
              "    .dataframe tbody tr th {\n",
              "        vertical-align: top;\n",
              "    }\n",
              "\n",
              "    .dataframe thead th {\n",
              "        text-align: right;\n",
              "    }\n",
              "</style>\n",
              "<table border=\"1\" class=\"dataframe\">\n",
              "  <thead>\n",
              "    <tr style=\"text-align: right;\">\n",
              "      <th></th>\n",
              "      <th>name</th>\n",
              "      <th>maturity</th>\n",
              "      <th>coupon_rate</th>\n",
              "      <th>ytm</th>\n",
              "      <th>price_semiannual</th>\n",
              "      <th>dolar_duration_semiannual</th>\n",
              "      <th>MacD_semiannual</th>\n",
              "      <th>convexity_semiannual</th>\n",
              "      <th>relative_convexity_semiannual</th>\n",
              "      <th>price_continual</th>\n",
              "      <th>dolar_duration_continual</th>\n",
              "      <th>MacD_continual</th>\n",
              "      <th>convexity_continual</th>\n",
              "      <th>relative_convexity_continual</th>\n",
              "    </tr>\n",
              "  </thead>\n",
              "  <tbody>\n",
              "    <tr>\n",
              "      <th>0</th>\n",
              "      <td>Athens</td>\n",
              "      <td>1</td>\n",
              "      <td>2</td>\n",
              "      <td>4</td>\n",
              "      <td>98.039216</td>\n",
              "      <td>-96.116878</td>\n",
              "      <td>0.980392</td>\n",
              "      <td>141.348350</td>\n",
              "      <td>1.441753</td>\n",
              "      <td>98.000523</td>\n",
              "      <td>-98.000523</td>\n",
              "      <td>1.000000</td>\n",
              "      <td>98.000523</td>\n",
              "      <td>1.000000</td>\n",
              "    </tr>\n",
              "    <tr>\n",
              "      <th>1</th>\n",
              "      <td>Belgrade</td>\n",
              "      <td>1</td>\n",
              "      <td>6</td>\n",
              "      <td>4</td>\n",
              "      <td>101.883891</td>\n",
              "      <td>-99.886167</td>\n",
              "      <td>0.980392</td>\n",
              "      <td>146.891423</td>\n",
              "      <td>1.441753</td>\n",
              "      <td>101.843681</td>\n",
              "      <td>-101.843681</td>\n",
              "      <td>1.000000</td>\n",
              "      <td>101.843681</td>\n",
              "      <td>1.000000</td>\n",
              "    </tr>\n",
              "    <tr>\n",
              "      <th>2</th>\n",
              "      <td>Canberra</td>\n",
              "      <td>5</td>\n",
              "      <td>2</td>\n",
              "      <td>4</td>\n",
              "      <td>90.928479</td>\n",
              "      <td>-427.599121</td>\n",
              "      <td>4.702587</td>\n",
              "      <td>2270.830444</td>\n",
              "      <td>24.973809</td>\n",
              "      <td>90.756477</td>\n",
              "      <td>-435.305401</td>\n",
              "      <td>4.796411</td>\n",
              "      <td>2140.303099</td>\n",
              "      <td>23.582924</td>\n",
              "    </tr>\n",
              "    <tr>\n",
              "      <th>3</th>\n",
              "      <td>Dublin</td>\n",
              "      <td>5</td>\n",
              "      <td>6</td>\n",
              "      <td>4</td>\n",
              "      <td>108.715776</td>\n",
              "      <td>-478.534324</td>\n",
              "      <td>4.401701</td>\n",
              "      <td>2475.778867</td>\n",
              "      <td>22.772950</td>\n",
              "      <td>108.523280</td>\n",
              "      <td>-487.185451</td>\n",
              "      <td>4.489225</td>\n",
              "      <td>2327.255532</td>\n",
              "      <td>21.444759</td>\n",
              "    </tr>\n",
              "    <tr>\n",
              "      <th>4</th>\n",
              "      <td>Edinburgh</td>\n",
              "      <td>10</td>\n",
              "      <td>2</td>\n",
              "      <td>4</td>\n",
              "      <td>83.486671</td>\n",
              "      <td>-741.899886</td>\n",
              "      <td>8.886447</td>\n",
              "      <td>7376.021123</td>\n",
              "      <td>88.349685</td>\n",
              "      <td>83.188520</td>\n",
              "      <td>-753.863537</td>\n",
              "      <td>9.062110</td>\n",
              "      <td>7267.415340</td>\n",
              "      <td>87.360796</td>\n",
              "    </tr>\n",
              "    <tr>\n",
              "      <th>5</th>\n",
              "      <td>Freetown</td>\n",
              "      <td>10</td>\n",
              "      <td>6</td>\n",
              "      <td>4</td>\n",
              "      <td>115.865747</td>\n",
              "      <td>-906.148024</td>\n",
              "      <td>7.820672</td>\n",
              "      <td>8544.443611</td>\n",
              "      <td>73.744345</td>\n",
              "      <td>115.501551</td>\n",
              "      <td>-920.950519</td>\n",
              "      <td>7.973490</td>\n",
              "      <td>8395.845100</td>\n",
              "      <td>72.690323</td>\n",
              "    </tr>\n",
              "    <tr>\n",
              "      <th>6</th>\n",
              "      <td>Georgetown</td>\n",
              "      <td>20</td>\n",
              "      <td>2</td>\n",
              "      <td>4</td>\n",
              "      <td>72.373674</td>\n",
              "      <td>-1132.226292</td>\n",
              "      <td>15.644173</td>\n",
              "      <td>21008.070062</td>\n",
              "      <td>290.272260</td>\n",
              "      <td>71.919448</td>\n",
              "      <td>-1146.502658</td>\n",
              "      <td>15.941483</td>\n",
              "      <td>21118.599146</td>\n",
              "      <td>293.642397</td>\n",
              "    </tr>\n",
              "    <tr>\n",
              "      <th>7</th>\n",
              "      <td>Havana</td>\n",
              "      <td>20</td>\n",
              "      <td>6</td>\n",
              "      <td>4</td>\n",
              "      <td>126.542940</td>\n",
              "      <td>-1620.638031</td>\n",
              "      <td>12.807021</td>\n",
              "      <td>27329.271656</td>\n",
              "      <td>215.968363</td>\n",
              "      <td>125.892552</td>\n",
              "      <td>-1642.192118</td>\n",
              "      <td>13.044395</td>\n",
              "      <td>27409.480308</td>\n",
              "      <td>217.721223</td>\n",
              "    </tr>\n",
              "  </tbody>\n",
              "</table>\n",
              "</div>\n",
              "      <button class=\"colab-df-convert\" onclick=\"convertToInteractive('df-6867c8fd-926c-4f14-9f13-b0ae3c1f4398')\"\n",
              "              title=\"Convert this dataframe to an interactive table.\"\n",
              "              style=\"display:none;\">\n",
              "        \n",
              "  <svg xmlns=\"http://www.w3.org/2000/svg\" height=\"24px\"viewBox=\"0 0 24 24\"\n",
              "       width=\"24px\">\n",
              "    <path d=\"M0 0h24v24H0V0z\" fill=\"none\"/>\n",
              "    <path d=\"M18.56 5.44l.94 2.06.94-2.06 2.06-.94-2.06-.94-.94-2.06-.94 2.06-2.06.94zm-11 1L8.5 8.5l.94-2.06 2.06-.94-2.06-.94L8.5 2.5l-.94 2.06-2.06.94zm10 10l.94 2.06.94-2.06 2.06-.94-2.06-.94-.94-2.06-.94 2.06-2.06.94z\"/><path d=\"M17.41 7.96l-1.37-1.37c-.4-.4-.92-.59-1.43-.59-.52 0-1.04.2-1.43.59L10.3 9.45l-7.72 7.72c-.78.78-.78 2.05 0 2.83L4 21.41c.39.39.9.59 1.41.59.51 0 1.02-.2 1.41-.59l7.78-7.78 2.81-2.81c.8-.78.8-2.07 0-2.86zM5.41 20L4 18.59l7.72-7.72 1.47 1.35L5.41 20z\"/>\n",
              "  </svg>\n",
              "      </button>\n",
              "      \n",
              "  <style>\n",
              "    .colab-df-container {\n",
              "      display:flex;\n",
              "      flex-wrap:wrap;\n",
              "      gap: 12px;\n",
              "    }\n",
              "\n",
              "    .colab-df-convert {\n",
              "      background-color: #E8F0FE;\n",
              "      border: none;\n",
              "      border-radius: 50%;\n",
              "      cursor: pointer;\n",
              "      display: none;\n",
              "      fill: #1967D2;\n",
              "      height: 32px;\n",
              "      padding: 0 0 0 0;\n",
              "      width: 32px;\n",
              "    }\n",
              "\n",
              "    .colab-df-convert:hover {\n",
              "      background-color: #E2EBFA;\n",
              "      box-shadow: 0px 1px 2px rgba(60, 64, 67, 0.3), 0px 1px 3px 1px rgba(60, 64, 67, 0.15);\n",
              "      fill: #174EA6;\n",
              "    }\n",
              "\n",
              "    [theme=dark] .colab-df-convert {\n",
              "      background-color: #3B4455;\n",
              "      fill: #D2E3FC;\n",
              "    }\n",
              "\n",
              "    [theme=dark] .colab-df-convert:hover {\n",
              "      background-color: #434B5C;\n",
              "      box-shadow: 0px 1px 3px 1px rgba(0, 0, 0, 0.15);\n",
              "      filter: drop-shadow(0px 1px 2px rgba(0, 0, 0, 0.3));\n",
              "      fill: #FFFFFF;\n",
              "    }\n",
              "  </style>\n",
              "\n",
              "      <script>\n",
              "        const buttonEl =\n",
              "          document.querySelector('#df-6867c8fd-926c-4f14-9f13-b0ae3c1f4398 button.colab-df-convert');\n",
              "        buttonEl.style.display =\n",
              "          google.colab.kernel.accessAllowed ? 'block' : 'none';\n",
              "\n",
              "        async function convertToInteractive(key) {\n",
              "          const element = document.querySelector('#df-6867c8fd-926c-4f14-9f13-b0ae3c1f4398');\n",
              "          const dataTable =\n",
              "            await google.colab.kernel.invokeFunction('convertToInteractive',\n",
              "                                                     [key], {});\n",
              "          if (!dataTable) return;\n",
              "\n",
              "          const docLinkHtml = 'Like what you see? Visit the ' +\n",
              "            '<a target=\"_blank\" href=https://colab.research.google.com/notebooks/data_table.ipynb>data table notebook</a>'\n",
              "            + ' to learn more about interactive tables.';\n",
              "          element.innerHTML = '';\n",
              "          dataTable['output_type'] = 'display_data';\n",
              "          await google.colab.output.renderOutput(dataTable, element);\n",
              "          const docLink = document.createElement('div');\n",
              "          docLink.innerHTML = docLinkHtml;\n",
              "          element.appendChild(docLink);\n",
              "        }\n",
              "      </script>\n",
              "    </div>\n",
              "  </div>\n",
              "  "
            ],
            "text/plain": [
              "         name  maturity  coupon_rate  ytm  price_semiannual  \\\n",
              "0      Athens         1            2    4         98.039216   \n",
              "1    Belgrade         1            6    4        101.883891   \n",
              "2    Canberra         5            2    4         90.928479   \n",
              "3      Dublin         5            6    4        108.715776   \n",
              "4   Edinburgh        10            2    4         83.486671   \n",
              "5    Freetown        10            6    4        115.865747   \n",
              "6  Georgetown        20            2    4         72.373674   \n",
              "7      Havana        20            6    4        126.542940   \n",
              "\n",
              "   dolar_duration_semiannual  MacD_semiannual  convexity_semiannual  \\\n",
              "0                 -96.116878         0.980392            141.348350   \n",
              "1                 -99.886167         0.980392            146.891423   \n",
              "2                -427.599121         4.702587           2270.830444   \n",
              "3                -478.534324         4.401701           2475.778867   \n",
              "4                -741.899886         8.886447           7376.021123   \n",
              "5                -906.148024         7.820672           8544.443611   \n",
              "6               -1132.226292        15.644173          21008.070062   \n",
              "7               -1620.638031        12.807021          27329.271656   \n",
              "\n",
              "   relative_convexity_semiannual  price_continual  dolar_duration_continual  \\\n",
              "0                       1.441753        98.000523                -98.000523   \n",
              "1                       1.441753       101.843681               -101.843681   \n",
              "2                      24.973809        90.756477               -435.305401   \n",
              "3                      22.772950       108.523280               -487.185451   \n",
              "4                      88.349685        83.188520               -753.863537   \n",
              "5                      73.744345       115.501551               -920.950519   \n",
              "6                     290.272260        71.919448              -1146.502658   \n",
              "7                     215.968363       125.892552              -1642.192118   \n",
              "\n",
              "   MacD_continual  convexity_continual  relative_convexity_continual  \n",
              "0        1.000000            98.000523                      1.000000  \n",
              "1        1.000000           101.843681                      1.000000  \n",
              "2        4.796411          2140.303099                     23.582924  \n",
              "3        4.489225          2327.255532                     21.444759  \n",
              "4        9.062110          7267.415340                     87.360796  \n",
              "5        7.973490          8395.845100                     72.690323  \n",
              "6       15.941483         21118.599146                    293.642397  \n",
              "7       13.044395         27409.480308                    217.721223  "
            ]
          },
          "execution_count": 3,
          "metadata": {},
          "output_type": "execute_result"
        }
      ],
      "source": [
        "df[\"cash_flows\"] = df.apply(lambda row: generate_cash_flows(maturity=row[\"maturity\"], coupon_rate=row[\"coupon_rate\"]/100, num_annual_payments=1, principle=100), axis=1)\n",
        "\n",
        "df[\"price_semiannual\"] = df.apply(lambda row: present_value(row[\"cash_flows\"], row[\"ytm\"]/100, compounding_freq = 2), axis=1)\n",
        "df[\"dolar_duration_semiannual\"] = df.apply(lambda row: duration(row[\"cash_flows\"], row[\"ytm\"]/100, compounding_freq = 2), axis=1)\n",
        "df[\"MacD_semiannual\"] = df.apply(lambda row: MacDuration(row[\"cash_flows\"], row[\"ytm\"]/100, compounding_freq = 2), axis=1)\n",
        "df[\"convexity_semiannual\"] = df.apply(lambda row: convexity(row[\"cash_flows\"], row[\"ytm\"]/100, compounding_freq = 2), axis=1)\n",
        "df[\"relative_convexity_semiannual\"] = df[\"convexity_semiannual\"] / df[\"price_semiannual\"]\n",
        "\n",
        "# cena u kontinualnom se poklapa sa Vasilijevom racunicom\n",
        "df[\"price_continual\"] = df.apply(lambda row: present_value(row[\"cash_flows\"], row[\"ytm\"]/100, compounding_freq = 0), axis=1)\n",
        "df[\"dolar_duration_continual\"] = df.apply(lambda row: duration(row[\"cash_flows\"], row[\"ytm\"]/100, compounding_freq = 0), axis=1)\n",
        "df[\"MacD_continual\"] = df.apply(lambda row: MacDuration(row[\"cash_flows\"], row[\"ytm\"]/100, compounding_freq = 0), axis=1)\n",
        "df[\"convexity_continual\"] = df.apply(lambda row: convexity(row[\"cash_flows\"], row[\"ytm\"]/100, compounding_freq = 0), axis=1)\n",
        "df[\"relative_convexity_continual\"] = df[\"convexity_continual\"] / df[\"price_continual\"]\n",
        "\n",
        "\n",
        "df.drop(columns=\"cash_flows\", axis=1)"
      ]
    },
    {
      "cell_type": "markdown",
      "metadata": {
        "id": "HdS4imD_Y3Bo"
      },
      "source": [
        "## (b) Based on your results, provide comments regarding the impact of (1) maturity, and (2) coupon rate on the bond price, duration, and convexity."
      ]
    },
    {
      "attachments": {},
      "cell_type": "markdown",
      "metadata": {
        "id": "atuslLmN2WMB"
      },
      "source": [
        "- For bonds with coupon rate bigger than YTM (premium bonds), we see that prices are bigger than principal, and vice versa: if coupon rate is smaller that YTM (discount bond), the price is smaller than a principal. It is intuitive: cash flows from annual coupons are bigger than depreciation of the future payment of the principal.\n",
        "\n",
        "- For premium bonds price is bigger when maturity is bigger and for discount bond price is smaler if maturity is bigger.\n",
        "\n",
        "- Bonds with higher coupons have shorter Macaulay duration but higher dollar duration, ceteris paribus. The lower a bond’s coupon, the longer\n",
        "its duration, because proportionately\n",
        "less payment is received before final\n",
        "maturity. The higher a bond’s coupon,\n",
        "the shorter its duration, because\n",
        "proportionately more payment is received\n",
        "before final maturity. \n",
        "\n",
        "- Bonds with longer maturities have longer duration, ceteris paribus The longer a bond’s maturity, the longer\n",
        "its duration, because it takes more time\n",
        "to receive full payment. The shorter a\n",
        "bond’s maturity, the shorter its duration,\n",
        "because it takes less time to receive\n",
        "full payment.\n",
        "\n",
        "\n",
        "- Bonds with higher coupon rates have lower convexity and higher dollar convexity, ceteris paribus.This lessening of risk is because market rates would have to increase greatly to surpass the coupon on the bond, meaning there is less interest rate risk to the investor.\n",
        "- Bonds with longer maturities have higher convexity and dollar convexity, ceteris paribus. More time means there is more interest rate risk to the investor.\n",
        "\n",
        "\n",
        "\n"
      ]
    },
    {
      "cell_type": "markdown",
      "metadata": {
        "id": "CTLK8pBAg0WU"
      },
      "source": [
        "**For the lower coupon rate price decreases with the maturity whereas for the higher coupon rate price increases with the maturity**"
      ]
    },
    {
      "cell_type": "markdown",
      "metadata": {
        "id": "hEc_X-k_jR3G"
      },
      "source": [
        "For a lower coupon rate bond price increases with the maturity \n",
        "For a higher coupon rate bond price increases with the maturity\n",
        "\n",
        "For a given coupon rate bonds duration and convexity are increasing with the maturity\n",
        "\n",
        "\n",
        "For a given maturity bonds price inreases with the increase in coupon rate\n",
        "\n",
        "For a given maturity bonds duration and convexity decreases with the increase in coupon rate\n",
        "\n"
      ]
    },
    {
      "cell_type": "markdown",
      "metadata": {
        "id": "xHHGL6dIY8Wp"
      },
      "source": [
        "## (c) Assuming an instantaneous increase in the YTM of 2%, estimate the pricing errors of the duration and duration–convexity approximations (relative to the full valuation approach). Comment your results."
      ]
    },
    {
      "cell_type": "markdown",
      "metadata": {
        "id": "uATRqlNIjd7p"
      },
      "source": [
        "We used following approximations of a bond price for a change $\\Delta y$ in yields:\n",
        "- Duration approximation (\"dur_approx\" in dataframe) \n",
        "$$ P_{D} (y_0 +\\Delta y) ≈ P(y_0) + P'(y_0)Δy$$\n",
        "\n",
        "- Duration-Convexity approximation (\"dur_conv_approx\" in dataframe)\n",
        "\n",
        "$$ P_{DC} (y_0 +\\Delta y) ≈ P(y_0) + P'(y_0)Δy +  \\frac{1}{2} P''(y_0)(Δy)^2$$\n",
        "\n",
        "Approximation errors are computed as \n",
        "$$P(y_0+\\Delta y) - P_{D} (y_0+\\Delta y)$$\n",
        "labeled as \"dur_approx_error\", and \n",
        "$$P(y_0+\\Delta y) - P_{DC} (y_0+\\Delta y)$$\n",
        "labeled as \"dur_conv_approx_error\" in df dataframe."
      ]
    },
    {
      "cell_type": "code",
      "execution_count": 4,
      "metadata": {
        "id": "RO9VoRQNibk3"
      },
      "outputs": [],
      "source": [
        "def duration_approx(cash_flows, ytm, compounding_freq, dy):\n",
        "    return present_value(cash_flows, ytm, compounding_freq) + duration(cash_flows, ytm, compounding_freq)*dy\n",
        "\n",
        "def dur_conv_approx(cash_flows, ytm, compounding_freq, dy):\n",
        "    return present_value(cash_flows, ytm, compounding_freq) + duration(cash_flows, ytm, compounding_freq)*dy + 0.5*convexity(cash_flows, ytm, compounding_freq)*(dy**2)"
      ]
    },
    {
      "cell_type": "code",
      "execution_count": 5,
      "metadata": {
        "colab": {
          "base_uri": "https://localhost:8080/",
          "height": 300
        },
        "id": "1eGbmiMziYBE",
        "outputId": "3202b9e8-4174-452b-c82d-fbd66c93a0be"
      },
      "outputs": [
        {
          "data": {
            "text/html": [
              "\n",
              "  <div id=\"df-0520d979-9553-443a-b09a-6a34455ce0d1\">\n",
              "    <div class=\"colab-df-container\">\n",
              "      <div>\n",
              "<style scoped>\n",
              "    .dataframe tbody tr th:only-of-type {\n",
              "        vertical-align: middle;\n",
              "    }\n",
              "\n",
              "    .dataframe tbody tr th {\n",
              "        vertical-align: top;\n",
              "    }\n",
              "\n",
              "    .dataframe thead th {\n",
              "        text-align: right;\n",
              "    }\n",
              "</style>\n",
              "<table border=\"1\" class=\"dataframe\">\n",
              "  <thead>\n",
              "    <tr style=\"text-align: right;\">\n",
              "      <th></th>\n",
              "      <th>name</th>\n",
              "      <th>maturity</th>\n",
              "      <th>coupon_rate</th>\n",
              "      <th>ytm</th>\n",
              "      <th>full_price</th>\n",
              "      <th>dur_conv_approx</th>\n",
              "      <th>dur_conv_approx</th>\n",
              "      <th>dur_approx_error</th>\n",
              "      <th>dur_conv_approx_error</th>\n",
              "    </tr>\n",
              "  </thead>\n",
              "  <tbody>\n",
              "    <tr>\n",
              "      <th>0</th>\n",
              "      <td>Athens</td>\n",
              "      <td>1</td>\n",
              "      <td>2</td>\n",
              "      <td>4</td>\n",
              "      <td>96.059982</td>\n",
              "      <td>96.060112</td>\n",
              "      <td>96.060112</td>\n",
              "      <td>0.000203</td>\n",
              "      <td>0.000001</td>\n",
              "    </tr>\n",
              "    <tr>\n",
              "      <th>1</th>\n",
              "      <td>Belgrade</td>\n",
              "      <td>1</td>\n",
              "      <td>6</td>\n",
              "      <td>4</td>\n",
              "      <td>99.827041</td>\n",
              "      <td>99.827176</td>\n",
              "      <td>99.827176</td>\n",
              "      <td>0.000203</td>\n",
              "      <td>0.000001</td>\n",
              "    </tr>\n",
              "    <tr>\n",
              "      <th>2</th>\n",
              "      <td>Canberra</td>\n",
              "      <td>5</td>\n",
              "      <td>2</td>\n",
              "      <td>4</td>\n",
              "      <td>82.464625</td>\n",
              "      <td>82.478429</td>\n",
              "      <td>82.478429</td>\n",
              "      <td>0.005023</td>\n",
              "      <td>0.000167</td>\n",
              "    </tr>\n",
              "    <tr>\n",
              "      <th>3</th>\n",
              "      <td>Dublin</td>\n",
              "      <td>5</td>\n",
              "      <td>6</td>\n",
              "      <td>4</td>\n",
              "      <td>99.230230</td>\n",
              "      <td>99.245022</td>\n",
              "      <td>99.245022</td>\n",
              "      <td>0.004542</td>\n",
              "      <td>0.000149</td>\n",
              "    </tr>\n",
              "    <tr>\n",
              "      <th>4</th>\n",
              "      <td>Edinburgh</td>\n",
              "      <td>10</td>\n",
              "      <td>2</td>\n",
              "      <td>4</td>\n",
              "      <td>69.474099</td>\n",
              "      <td>69.564732</td>\n",
              "      <td>69.564732</td>\n",
              "      <td>0.019617</td>\n",
              "      <td>0.001305</td>\n",
              "    </tr>\n",
              "    <tr>\n",
              "      <th>5</th>\n",
              "      <td>Freetown</td>\n",
              "      <td>10</td>\n",
              "      <td>6</td>\n",
              "      <td>4</td>\n",
              "      <td>98.659970</td>\n",
              "      <td>98.761710</td>\n",
              "      <td>98.761710</td>\n",
              "      <td>0.015989</td>\n",
              "      <td>0.001031</td>\n",
              "    </tr>\n",
              "    <tr>\n",
              "      <th>6</th>\n",
              "      <td>Georgetown</td>\n",
              "      <td>20</td>\n",
              "      <td>2</td>\n",
              "      <td>4</td>\n",
              "      <td>52.721129</td>\n",
              "      <td>53.213115</td>\n",
              "      <td>53.213115</td>\n",
              "      <td>0.070783</td>\n",
              "      <td>0.009332</td>\n",
              "    </tr>\n",
              "    <tr>\n",
              "      <th>7</th>\n",
              "      <td>Havana</td>\n",
              "      <td>20</td>\n",
              "      <td>6</td>\n",
              "      <td>4</td>\n",
              "      <td>97.924546</td>\n",
              "      <td>98.530606</td>\n",
              "      <td>98.530606</td>\n",
              "      <td>0.049792</td>\n",
              "      <td>0.006189</td>\n",
              "    </tr>\n",
              "  </tbody>\n",
              "</table>\n",
              "</div>\n",
              "      <button class=\"colab-df-convert\" onclick=\"convertToInteractive('df-0520d979-9553-443a-b09a-6a34455ce0d1')\"\n",
              "              title=\"Convert this dataframe to an interactive table.\"\n",
              "              style=\"display:none;\">\n",
              "        \n",
              "  <svg xmlns=\"http://www.w3.org/2000/svg\" height=\"24px\"viewBox=\"0 0 24 24\"\n",
              "       width=\"24px\">\n",
              "    <path d=\"M0 0h24v24H0V0z\" fill=\"none\"/>\n",
              "    <path d=\"M18.56 5.44l.94 2.06.94-2.06 2.06-.94-2.06-.94-.94-2.06-.94 2.06-2.06.94zm-11 1L8.5 8.5l.94-2.06 2.06-.94-2.06-.94L8.5 2.5l-.94 2.06-2.06.94zm10 10l.94 2.06.94-2.06 2.06-.94-2.06-.94-.94-2.06-.94 2.06-2.06.94z\"/><path d=\"M17.41 7.96l-1.37-1.37c-.4-.4-.92-.59-1.43-.59-.52 0-1.04.2-1.43.59L10.3 9.45l-7.72 7.72c-.78.78-.78 2.05 0 2.83L4 21.41c.39.39.9.59 1.41.59.51 0 1.02-.2 1.41-.59l7.78-7.78 2.81-2.81c.8-.78.8-2.07 0-2.86zM5.41 20L4 18.59l7.72-7.72 1.47 1.35L5.41 20z\"/>\n",
              "  </svg>\n",
              "      </button>\n",
              "      \n",
              "  <style>\n",
              "    .colab-df-container {\n",
              "      display:flex;\n",
              "      flex-wrap:wrap;\n",
              "      gap: 12px;\n",
              "    }\n",
              "\n",
              "    .colab-df-convert {\n",
              "      background-color: #E8F0FE;\n",
              "      border: none;\n",
              "      border-radius: 50%;\n",
              "      cursor: pointer;\n",
              "      display: none;\n",
              "      fill: #1967D2;\n",
              "      height: 32px;\n",
              "      padding: 0 0 0 0;\n",
              "      width: 32px;\n",
              "    }\n",
              "\n",
              "    .colab-df-convert:hover {\n",
              "      background-color: #E2EBFA;\n",
              "      box-shadow: 0px 1px 2px rgba(60, 64, 67, 0.3), 0px 1px 3px 1px rgba(60, 64, 67, 0.15);\n",
              "      fill: #174EA6;\n",
              "    }\n",
              "\n",
              "    [theme=dark] .colab-df-convert {\n",
              "      background-color: #3B4455;\n",
              "      fill: #D2E3FC;\n",
              "    }\n",
              "\n",
              "    [theme=dark] .colab-df-convert:hover {\n",
              "      background-color: #434B5C;\n",
              "      box-shadow: 0px 1px 3px 1px rgba(0, 0, 0, 0.15);\n",
              "      filter: drop-shadow(0px 1px 2px rgba(0, 0, 0, 0.3));\n",
              "      fill: #FFFFFF;\n",
              "    }\n",
              "  </style>\n",
              "\n",
              "      <script>\n",
              "        const buttonEl =\n",
              "          document.querySelector('#df-0520d979-9553-443a-b09a-6a34455ce0d1 button.colab-df-convert');\n",
              "        buttonEl.style.display =\n",
              "          google.colab.kernel.accessAllowed ? 'block' : 'none';\n",
              "\n",
              "        async function convertToInteractive(key) {\n",
              "          const element = document.querySelector('#df-0520d979-9553-443a-b09a-6a34455ce0d1');\n",
              "          const dataTable =\n",
              "            await google.colab.kernel.invokeFunction('convertToInteractive',\n",
              "                                                     [key], {});\n",
              "          if (!dataTable) return;\n",
              "\n",
              "          const docLinkHtml = 'Like what you see? Visit the ' +\n",
              "            '<a target=\"_blank\" href=https://colab.research.google.com/notebooks/data_table.ipynb>data table notebook</a>'\n",
              "            + ' to learn more about interactive tables.';\n",
              "          element.innerHTML = '';\n",
              "          dataTable['output_type'] = 'display_data';\n",
              "          await google.colab.output.renderOutput(dataTable, element);\n",
              "          const docLink = document.createElement('div');\n",
              "          docLink.innerHTML = docLinkHtml;\n",
              "          element.appendChild(docLink);\n",
              "        }\n",
              "      </script>\n",
              "    </div>\n",
              "  </div>\n",
              "  "
            ],
            "text/plain": [
              "         name  maturity  coupon_rate  ytm  full_price  dur_conv_approx  \\\n",
              "0      Athens         1            2    4   96.059982        96.060112   \n",
              "1    Belgrade         1            6    4   99.827041        99.827176   \n",
              "2    Canberra         5            2    4   82.464625        82.478429   \n",
              "3      Dublin         5            6    4   99.230230        99.245022   \n",
              "4   Edinburgh        10            2    4   69.474099        69.564732   \n",
              "5    Freetown        10            6    4   98.659970        98.761710   \n",
              "6  Georgetown        20            2    4   52.721129        53.213115   \n",
              "7      Havana        20            6    4   97.924546        98.530606   \n",
              "\n",
              "   dur_conv_approx  dur_approx_error  dur_conv_approx_error  \n",
              "0        96.060112          0.000203               0.000001  \n",
              "1        99.827176          0.000203               0.000001  \n",
              "2        82.478429          0.005023               0.000167  \n",
              "3        99.245022          0.004542               0.000149  \n",
              "4        69.564732          0.019617               0.001305  \n",
              "5        98.761710          0.015989               0.001031  \n",
              "6        53.213115          0.070783               0.009332  \n",
              "7        98.530606          0.049792               0.006189  "
            ]
          },
          "execution_count": 5,
          "metadata": {},
          "output_type": "execute_result"
        }
      ],
      "source": [
        "# Note: we are using continuous compounding\n",
        "df[\"full_price\"]  = df.apply(lambda row: present_value(row[\"cash_flows\"], row[\"ytm\"]/100 + .02, compounding_freq = 0), axis=1)\n",
        "df[\"duration_approx\"] = df.apply(lambda row: duration_approx(row[\"cash_flows\"], row[\"ytm\"]/100, compounding_freq = 0, dy=.02), axis=1)\n",
        "df[\"dur_conv_approx\"] = df.apply(lambda row: dur_conv_approx(row[\"cash_flows\"], row[\"ytm\"]/100, compounding_freq = 0, dy=.02), axis=1)\n",
        "df[\"dur_approx_error\"] = (df[\"full_price\"] - df[\"duration_approx\"]) / df[\"full_price\"]\n",
        "df[\"dur_conv_approx_error\"] = (df[\"dur_conv_approx\"] - df[\"full_price\"]) / df[\"full_price\"]\n",
        "df[[\"name\", \"maturity\", \"coupon_rate\", \"ytm\", \"full_price\", \"dur_conv_approx\", \"dur_conv_approx\", \"dur_approx_error\", \"dur_conv_approx_error\"]]"
      ]
    },
    {
      "cell_type": "markdown",
      "metadata": {
        "id": "b16DUa35ZoLK"
      },
      "source": [
        "**2. Suppose you decide to invest today $100,000 in a risk-free bond (B) with the maturity of\n",
        "10 years and the coupon rate of 5%. The yield curve is assumed to be flat at 2% at the\n",
        "time of the bond purchase.**\n",
        "<br>Remark: For all bonds, the coupon payments and compounding frequency are semi-annual."
      ]
    },
    {
      "cell_type": "markdown",
      "metadata": {
        "id": "sKvCbPVBZv_T"
      },
      "source": [
        "(a) As a cautious and prudent investor, you are concerned that yields might rise, and\n",
        "would therefore like to hedge the interest rate risk. Assume that you have an access\n",
        "to a hedging instrument (H1), which is actually another bond with the maturity of\n",
        "15 years, coupon rate of 6%, and face value of $10,000. Assuming that only small\n",
        "parallel shifts of the yield curve are possible, compute how many units of the hedging\n",
        "instrument you should buy or sell to eliminate the interest rate risk"
      ]
    },
    {
      "cell_type": "markdown",
      "metadata": {
        "id": "4wiEVoJKbzfC"
      },
      "source": [
        "**NOTE:** We assume it is possible to buy fractional bonds for simplicity of calculation. The value of the principal payment of the original bond is arbitrarily chosen to match the principal of the $H_1$ instrument."
      ]
    },
    {
      "cell_type": "code",
      "execution_count": 6,
      "metadata": {
        "colab": {
          "base_uri": "https://localhost:8080/"
        },
        "id": "onKrSUv8vtjx",
        "outputId": "b5f23c4d-7274-4835-f3a4-533e2dbbc717"
      },
      "outputs": [
        {
          "data": {
            "text/plain": [
              "10800.447571932262"
            ]
          },
          "execution_count": 6,
          "metadata": {},
          "output_type": "execute_result"
        }
      ],
      "source": [
        "original_cf = generate_cash_flows(maturity=10, coupon_rate=.05, num_annual_payments=2, principle=10_000) \n",
        "h1_cf = generate_cash_flows(maturity=15, coupon_rate=.06, num_annual_payments=2, principle=10_000) \n",
        "present_value(original_cf, ytm=.02, compounding_freq=2)"
      ]
    },
    {
      "cell_type": "markdown",
      "metadata": {
        "id": "lpz4s2DAv7Q9"
      },
      "source": [
        "We have \\$100.000 to invest in the bond valued \\$10.800,45 , hance we will by $100.000 / $10.800,45 units: \n"
      ]
    },
    {
      "cell_type": "code",
      "execution_count": 7,
      "metadata": {
        "colab": {
          "base_uri": "https://localhost:8080/"
        },
        "id": "m8M_HfEIvves",
        "outputId": "45a7cba1-ee54-4a37-bf38-91d788cec768"
      },
      "outputs": [
        {
          "data": {
            "text/plain": [
              "9.258875554368293"
            ]
          },
          "execution_count": 7,
          "metadata": {},
          "output_type": "execute_result"
        }
      ],
      "source": [
        "units_in_pi = 100_000 / present_value(original_cf, ytm=.02, compounding_freq=2)\n",
        "units_in_pi"
      ]
    },
    {
      "cell_type": "markdown",
      "metadata": {
        "id": "k21FFXu-wFvF"
      },
      "source": [
        "\n",
        "In order to make a duration hedge for \\$100.000 dollars invested in the original bond, we assume that we will have extra capital to invest in $H_1$ (we do not assume that \\$100k is meant for portfolio plus hedge; if it is, then it is just a problem of rescaling). In order to hedge against interest rate risk, we have to buy the following number of $H_1$ instruments\n",
        "\n",
        "$$ n = - \\frac{\\$ Duration(\\pi)}{\\$ Duration(h_1)} $$"
      ]
    },
    {
      "cell_type": "code",
      "execution_count": 8,
      "metadata": {
        "colab": {
          "base_uri": "https://localhost:8080/"
        },
        "id": "g1cozUDzvvcF",
        "outputId": "a4d5e9c6-3cd0-4a22-9751-494e3649438f"
      },
      "outputs": [
        {
          "data": {
            "text/plain": [
              "-6.234119830984455"
            ]
          },
          "execution_count": 8,
          "metadata": {},
          "output_type": "execute_result"
        }
      ],
      "source": [
        "# cash flow of pi, which is 9.258 units of original bond\n",
        "pi_cf = [units_in_pi * payment for payment in original_cf] \n",
        "\n",
        "n = - duration(pi_cf, ytm=.02, compounding_freq=2) / duration(h1_cf, ytm=.02, compounding_freq=2)\n",
        "n"
      ]
    },
    {
      "cell_type": "markdown",
      "metadata": {
        "id": "yiUr3p0StV18"
      },
      "source": [
        "We should by -6.2341 units of $H_1$ instrument. Negative number indicates shorting $H_1$.\n"
      ]
    },
    {
      "cell_type": "markdown",
      "metadata": {
        "id": "Zl5MKJ1xZ13-"
      },
      "source": [
        "(b) Compare the impact of an instantaneous rise in the yield curve of 20 basis points\n",
        "(bps) on your bond price with and without the hedging instrument. Comment your\n",
        "results."
      ]
    },
    {
      "cell_type": "code",
      "execution_count": 9,
      "metadata": {
        "colab": {
          "base_uri": "https://localhost:8080/"
        },
        "id": "8TNiR3ozzoGS",
        "outputId": "4e10b897-ed34-4ffc-b0fe-b822b2e847f4"
      },
      "outputs": [
        {
          "data": {
            "text/plain": [
              "-3140.4701475562033"
            ]
          },
          "execution_count": 9,
          "metadata": {},
          "output_type": "execute_result"
        }
      ],
      "source": [
        "# Net change of portfolio value without hedge \n",
        "PnL_no_hedge = (\n",
        "    present_value(pi_cf, ytm=.02  + .002, compounding_freq=2) \n",
        "  - present_value(pi_cf, ytm=.02, compounding_freq=2))\n",
        "\n",
        "PnL_no_hedge"
      ]
    },
    {
      "cell_type": "code",
      "execution_count": 10,
      "metadata": {
        "colab": {
          "base_uri": "https://localhost:8080/"
        },
        "id": "YcuuMnEJzl5A",
        "outputId": "db3d20f5-3561-4b43-a579-8f33e4184ae9"
      },
      "outputs": [
        {
          "data": {
            "text/plain": [
              "-23.51655591117742"
            ]
          },
          "execution_count": 10,
          "metadata": {},
          "output_type": "execute_result"
        }
      ],
      "source": [
        "# Net change of the value of portfolio with hedge\n",
        "# cash flow of n*h1, i.e. of entire hadge part of portfolio\n",
        "hedge_cf = [n * payment for payment in h1_cf] \n",
        "\n",
        "PnL_with_hedge = (\n",
        "      present_value(pi_cf, ytm=.02  + .002, compounding_freq=2) \n",
        "    + present_value(hedge_cf, ytm=.02 + .002 , compounding_freq=2)\n",
        "    - present_value(pi_cf, ytm=.02, compounding_freq=2) \n",
        "    - present_value(hedge_cf, ytm=.02, compounding_freq=2))\n",
        "\n",
        "PnL_with_hedge"
      ]
    },
    {
      "cell_type": "markdown",
      "metadata": {
        "id": "WEgrSk42Z47t"
      },
      "source": [
        "(c) Compare the impact of an instantaneous rise in the yield curve of 200 bps on your\n",
        "bond price with and without the hedging instrument. Comment your results."
      ]
    },
    {
      "cell_type": "code",
      "execution_count": 11,
      "metadata": {
        "colab": {
          "base_uri": "https://localhost:8080/"
        },
        "id": "ZbQG0FkwvPEI",
        "outputId": "1603dea1-474c-4783-b05a-e579353c212c"
      },
      "outputs": [
        {
          "data": {
            "text/plain": [
              "-26720.78436478018"
            ]
          },
          "execution_count": 11,
          "metadata": {},
          "output_type": "execute_result"
        }
      ],
      "source": [
        "# Net change of portfolio value without hedge \n",
        "PnL_no_hedge_big_shock = (\n",
        "    present_value(pi_cf, ytm=.02  + .02, compounding_freq=2) \n",
        "  - present_value(pi_cf, ytm=.02, compounding_freq=2))\n",
        "\n",
        "PnL_no_hedge_big_shock"
      ]
    },
    {
      "cell_type": "code",
      "execution_count": 12,
      "metadata": {
        "colab": {
          "base_uri": "https://localhost:8080/"
        },
        "id": "MODPEukVvPEN",
        "outputId": "f11e1285-68f5-4214-f815-a054ede0ca66"
      },
      "outputs": [
        {
          "data": {
            "text/plain": [
              "-1760.1615586248518"
            ]
          },
          "execution_count": 12,
          "metadata": {},
          "output_type": "execute_result"
        }
      ],
      "source": [
        "# Net change of the value of portfolio with hedge\n",
        "# cash flow of n*h1, i.e. of entire hadge part of portfolio\n",
        "hedge_cf = [n * payment for payment in h1_cf] \n",
        "\n",
        "PnL_with_hedge_big_shock = (\n",
        "      present_value(pi_cf, ytm=.02  + .02, compounding_freq=2) \n",
        "    + present_value(hedge_cf, ytm=.02 + .02 , compounding_freq=2)\n",
        "    - present_value(pi_cf, ytm=.02, compounding_freq=2) \n",
        "    - present_value(hedge_cf, ytm=.02, compounding_freq=2))\n",
        "\n",
        "PnL_with_hedge_big_shock"
      ]
    },
    {
      "cell_type": "markdown",
      "metadata": {
        "id": "1FDc5RnLZ_eV"
      },
      "source": [
        "(d) Assume now that you could use yet another bond as a second hedging instrument (H2).\n",
        "The maturity is 5 years and the coupon rate is 4%. How many units of each hedging\n",
        "instrument should your buy or sell to be hedged against large parallel upward shifts\n",
        "in the yield curve? What is the impact of the duration–convexity hedging relative to\n",
        "the duration hedging in the case when there is an instantaneous rise in the yield curve\n",
        "of 200 bps?"
      ]
    },
    {
      "cell_type": "code",
      "execution_count": 13,
      "metadata": {
        "colab": {
          "base_uri": "https://localhost:8080/"
        },
        "id": "0JNfAo3FaAGO",
        "outputId": "f928726b-0238-40ea-fa83-004f488854a5"
      },
      "outputs": [
        {
          "data": {
            "text/plain": [
              "(8.29801672875006, -41.1490256240907)"
            ]
          },
          "execution_count": 13,
          "metadata": {},
          "output_type": "execute_result"
        }
      ],
      "source": [
        "import sympy as sp\n",
        "\n",
        "n1, n2 = sp.symbols('n1, n2')\n",
        "\n",
        "h1_cf = generate_cash_flows(maturity=15, coupon_rate=.06, num_annual_payments=2, principle=10_000) \n",
        "h2_cf = generate_cash_flows(maturity=5, coupon_rate=.04, num_annual_payments=2, principle=10_000) \n",
        "\n",
        "pi_duration  = duration(pi_cf, ytm=.02, compounding_freq=2)\n",
        "h1_duration  = duration(h1_cf, ytm=.02, compounding_freq=2)\n",
        "h2_duration  = duration(h2_cf, ytm=.02, compounding_freq=2)\n",
        "\n",
        "pi_convexity = convexity(pi_cf, ytm=.02, compounding_freq=2)\n",
        "h2_convexity = convexity(h1_cf, ytm=.02, compounding_freq=2)\n",
        "h2_convexity = convexity(h2_cf, ytm=.02, compounding_freq=2)\n",
        "\n",
        "n1,n2 = sp.symbols('n1,n2')\n",
        "\n",
        "eq1 = sp.Eq(pi_duration  + n1 * h1_duration  + n2 * h2_duration, 0)\n",
        "eq2 = sp.Eq(pi_convexity + n1 * h2_convexity + n2 * h2_convexity, 0)\n",
        "\n",
        "solution = list(sp.solve((eq1,eq2),(n1,n2)).values())\n",
        "n1_sol = solution[0]\n",
        "n2_sol = solution[1]\n",
        "\n",
        "n1_sol, n2_sol"
      ]
    },
    {
      "cell_type": "code",
      "execution_count": 14,
      "metadata": {
        "colab": {
          "base_uri": "https://localhost:8080/"
        },
        "id": "xVigHa5h0rhw",
        "outputId": "5e4f6278-bf1a-40d1-c9a5-d5cbd4abd50c"
      },
      "outputs": [
        {
          "data": {
            "text/plain": [
              "(101353.664010341, -411120.824936723)"
            ]
          },
          "execution_count": 14,
          "metadata": {},
          "output_type": "execute_result"
        }
      ],
      "source": [
        "hedge_cf_1 = [n1_sol * payment for payment in h1_cf] \n",
        "hedge_cf_2 = [n2_sol * payment for payment in h2_cf] \n",
        "# values of the two hedge components\n",
        "present_value(hedge_cf_1, ytm=.02, compounding_freq=2) , present_value(hedge_cf_2, ytm=.02, compounding_freq=2)"
      ]
    },
    {
      "cell_type": "code",
      "execution_count": 15,
      "metadata": {
        "colab": {
          "base_uri": "https://localhost:8080/",
          "height": 37
        },
        "id": "IUrsxoJt0cEs",
        "outputId": "a452725b-f66e-4f07-cf3c-8c6a540e8c21"
      },
      "outputs": [
        {
          "data": {
            "text/latex": [
              "$\\displaystyle -209767.160926383$"
            ],
            "text/plain": [
              "-209767.160926383"
            ]
          },
          "execution_count": 15,
          "metadata": {},
          "output_type": "execute_result"
        }
      ],
      "source": [
        " portfolio_value = (\n",
        "    + present_value(pi_cf, ytm=.02, compounding_freq=2) \n",
        "    + present_value(hedge_cf_1, ytm=.02, compounding_freq=2)\n",
        "    + present_value(hedge_cf_2, ytm=.02, compounding_freq=2)) \n",
        " \n",
        " portfolio_value"
      ]
    },
    {
      "cell_type": "code",
      "execution_count": 16,
      "metadata": {
        "colab": {
          "base_uri": "https://localhost:8080/",
          "height": 37
        },
        "id": "ipgQJvfJyLh5",
        "outputId": "27367ea7-e654-499a-a189-75271e6e1925"
      },
      "outputs": [
        {
          "data": {
            "text/latex": [
              "$\\displaystyle 7636.31956086739$"
            ],
            "text/plain": [
              "7636.31956086739"
            ]
          },
          "execution_count": 16,
          "metadata": {},
          "output_type": "execute_result"
        }
      ],
      "source": [
        "PnL_with_DurConv_hedge = (\n",
        "      present_value(pi_cf, ytm=.02  + .02, compounding_freq=2) \n",
        "    + present_value(hedge_cf_1, ytm=.02 + .02 , compounding_freq=2)\n",
        "    + present_value(hedge_cf_2, ytm=.02 + .02 , compounding_freq=2)\n",
        "    - present_value(pi_cf, ytm=.02, compounding_freq=2) \n",
        "    - present_value(hedge_cf_1, ytm=.02, compounding_freq=2)\n",
        "    - present_value(hedge_cf_2, ytm=.02, compounding_freq=2))\n",
        "\n",
        "PnL_with_DurConv_hedge"
      ]
    },
    {
      "cell_type": "code",
      "execution_count": 17,
      "metadata": {
        "id": "nAvuhpct4Mbz"
      },
      "outputs": [],
      "source": [
        "delta_ys = np.arange(-0.05, 0.05, 0.001)\n",
        "\n",
        "def PnL_with_CD(dy):\n",
        "  PnL_with_DurConv_hedge = (\n",
        "      present_value(pi_cf, ytm=.02  + dy, compounding_freq=2) \n",
        "    + present_value(hedge_cf_1, ytm=.02 + dy , compounding_freq=2)\n",
        "    + present_value(hedge_cf_2, ytm=.02 + dy , compounding_freq=2)\n",
        "    - present_value(pi_cf, ytm=.02  , compounding_freq=2) \n",
        "    - present_value(hedge_cf_1, ytm=.02  , compounding_freq=2)\n",
        "    - present_value(hedge_cf_2, ytm=.02  , compounding_freq=2))\n",
        "  return PnL_with_DurConv_hedge \n",
        "\n",
        "def PnL_with_D(dy):\n",
        "  PnL_with_Dur_hedge = (\n",
        "      present_value(pi_cf, ytm=.02  + dy, compounding_freq=2) \n",
        "    + present_value(hedge_cf, ytm=.02 + dy , compounding_freq=2)\n",
        "    - present_value(pi_cf, ytm=.02  , compounding_freq=2) \n",
        "    - present_value(hedge_cf, ytm=.02 , compounding_freq=2))\n",
        "  return PnL_with_Dur_hedge\n",
        "\n",
        "def PnL_zero_hedge(dy):\n",
        "  PnL_with_Dur_hedge = (\n",
        "      present_value(pi_cf, ytm=.02  + dy, compounding_freq=2)\n",
        "    - present_value(pi_cf, ytm=.02  , compounding_freq=2))\n",
        "  return PnL_with_Dur_hedge"
      ]
    },
    {
      "cell_type": "code",
      "execution_count": 18,
      "metadata": {
        "colab": {
          "base_uri": "https://localhost:8080/",
          "height": 282
        },
        "id": "DAc_-TSB4sc0",
        "outputId": "e7298c77-6d3a-4f5a-8a38-6a77c156c1ea"
      },
      "outputs": [
        {
          "data": {
            "text/plain": [
              "<matplotlib.legend.Legend at 0x7fa1f6854b90>"
            ]
          },
          "execution_count": 18,
          "metadata": {},
          "output_type": "execute_result"
        },
        {
          "data": {
            "image/png": "[encoded data removed]",
            "text/plain": [
              "<Figure size 432x288 with 1 Axes>"
            ]
          },
          "metadata": {
            "needs_background": "light"
          },
          "output_type": "display_data"
        }
      ],
      "source": [
        "PnLs_DC_hedged = list(map(PnL_with_CD, delta_ys))\n",
        "PnLs_D_hedged = list(map(PnL_with_D, delta_ys))\n",
        "PnLs_non_hedged = list(map(PnL_zero_hedge, delta_ys))\n",
        "ys = list(delta_ys + 0.02)\n",
        "\n",
        "import matplotlib.pyplot as plt\n",
        "plt.plot(ys,PnLs_DC_hedged, label='Duration Convexity hedged')\n",
        "plt.plot(ys,PnLs_D_hedged, label='Duration hedged')\n",
        "plt.plot(ys,PnLs_non_hedged, label='Zero hedge')\n",
        "plt.legend()\n",
        "# ovde nesto smrdi"
      ]
    },
    {
      "cell_type": "markdown",
      "metadata": {
        "id": "egXK9XxFaQwt"
      },
      "source": [
        "**3. Consider the following set of on-the-run bonds:**"
      ]
    },
    {
      "cell_type": "markdown",
      "metadata": {
        "id": "hERcWpxCfKPN"
      },
      "source": [
        "|Bond Name|Maturity|Coupon Rate(%)|Bond Price ($)|\n",
        "|:--------|:-------|:-------------|:-------------|\n",
        "| Antigua & Barbuda  | 0.5 Year | 1.00          | 99.50  |\n",
        "| Bahamas| 1.0 Year | 2.00         | 99.00  |\n",
        "| Cape Verde| 1.5 Years | 3.00          | 98.00  |\n",
        "| Dominica  | 2.0 Years | 3.50          | 99.50  |\n",
        "|East Timor|2.5 Years| 4.00          | 100.50  |\n",
        "| Fiji|3.0 Years| 4.50          | 101.25  |\n",
        "|Grenada| 3.5 Years | 4.75          | 102.00  |\n",
        "| Haiti  | 4.0 Years | 5.00          |100.00  |\n",
        "|Iceland| 4.5 Years | 5.50          | 101.50  |\n",
        "| Jamaica  | 5.0 Years | 5.50          | 100.50  |"
      ]
    },
    {
      "cell_type": "markdown",
      "metadata": {
        "id": "0-Uu_TCJaxeE"
      },
      "source": [
        "(a) Bootstrap the spot rate curve for the given set of maturities. Assume semi-annual\n",
        "coupon payments and compounding.\n",
        "<br>Hint: Use the discount factors notation to cast the problem in a matrix format. \n",
        "<br>To complete this task you can use, e.g., <font color='blue'>numpy.linalg.solve</font> in Python."
      ]
    },
    {
      "cell_type": "code",
      "execution_count": 19,
      "metadata": {
        "colab": {
          "base_uri": "https://localhost:8080/",
          "height": 363
        },
        "id": "YJUVKMp32qB8",
        "outputId": "6583a2a7-db17-4fce-8732-04729f16978a"
      },
      "outputs": [
        {
          "data": {
            "text/html": [
              "\n",
              "  <div id=\"df-e7783a4b-37d8-4a93-90dd-321911a84d4a\">\n",
              "    <div class=\"colab-df-container\">\n",
              "      <div>\n",
              "<style scoped>\n",
              "    .dataframe tbody tr th:only-of-type {\n",
              "        vertical-align: middle;\n",
              "    }\n",
              "\n",
              "    .dataframe tbody tr th {\n",
              "        vertical-align: top;\n",
              "    }\n",
              "\n",
              "    .dataframe thead th {\n",
              "        text-align: right;\n",
              "    }\n",
              "</style>\n",
              "<table border=\"1\" class=\"dataframe\">\n",
              "  <thead>\n",
              "    <tr style=\"text-align: right;\">\n",
              "      <th></th>\n",
              "      <th>name</th>\n",
              "      <th>maturity</th>\n",
              "      <th>coupon_rate</th>\n",
              "      <th>price</th>\n",
              "    </tr>\n",
              "  </thead>\n",
              "  <tbody>\n",
              "    <tr>\n",
              "      <th>0</th>\n",
              "      <td>Antigua and Barbuda</td>\n",
              "      <td>0.5</td>\n",
              "      <td>1.00</td>\n",
              "      <td>99.50</td>\n",
              "    </tr>\n",
              "    <tr>\n",
              "      <th>1</th>\n",
              "      <td>Bahamas</td>\n",
              "      <td>1.0</td>\n",
              "      <td>2.00</td>\n",
              "      <td>99.00</td>\n",
              "    </tr>\n",
              "    <tr>\n",
              "      <th>2</th>\n",
              "      <td>Cape Verde</td>\n",
              "      <td>1.5</td>\n",
              "      <td>3.00</td>\n",
              "      <td>98.00</td>\n",
              "    </tr>\n",
              "    <tr>\n",
              "      <th>3</th>\n",
              "      <td>Dominica</td>\n",
              "      <td>2.0</td>\n",
              "      <td>3.50</td>\n",
              "      <td>99.50</td>\n",
              "    </tr>\n",
              "    <tr>\n",
              "      <th>4</th>\n",
              "      <td>East Timor</td>\n",
              "      <td>2.5</td>\n",
              "      <td>4.00</td>\n",
              "      <td>100.50</td>\n",
              "    </tr>\n",
              "    <tr>\n",
              "      <th>5</th>\n",
              "      <td>Fiji</td>\n",
              "      <td>3.0</td>\n",
              "      <td>4.50</td>\n",
              "      <td>101.25</td>\n",
              "    </tr>\n",
              "    <tr>\n",
              "      <th>6</th>\n",
              "      <td>Grenada</td>\n",
              "      <td>3.5</td>\n",
              "      <td>4.75</td>\n",
              "      <td>102.00</td>\n",
              "    </tr>\n",
              "    <tr>\n",
              "      <th>7</th>\n",
              "      <td>Haiti</td>\n",
              "      <td>4.0</td>\n",
              "      <td>5.00</td>\n",
              "      <td>100.00</td>\n",
              "    </tr>\n",
              "    <tr>\n",
              "      <th>8</th>\n",
              "      <td>Iceland</td>\n",
              "      <td>4.5</td>\n",
              "      <td>5.50</td>\n",
              "      <td>101.50</td>\n",
              "    </tr>\n",
              "    <tr>\n",
              "      <th>9</th>\n",
              "      <td>Jamaica</td>\n",
              "      <td>5.0</td>\n",
              "      <td>5.50</td>\n",
              "      <td>100.50</td>\n",
              "    </tr>\n",
              "  </tbody>\n",
              "</table>\n",
              "</div>\n",
              "      <button class=\"colab-df-convert\" onclick=\"convertToInteractive('df-e7783a4b-37d8-4a93-90dd-321911a84d4a')\"\n",
              "              title=\"Convert this dataframe to an interactive table.\"\n",
              "              style=\"display:none;\">\n",
              "        \n",
              "  <svg xmlns=\"http://www.w3.org/2000/svg\" height=\"24px\"viewBox=\"0 0 24 24\"\n",
              "       width=\"24px\">\n",
              "    <path d=\"M0 0h24v24H0V0z\" fill=\"none\"/>\n",
              "    <path d=\"M18.56 5.44l.94 2.06.94-2.06 2.06-.94-2.06-.94-.94-2.06-.94 2.06-2.06.94zm-11 1L8.5 8.5l.94-2.06 2.06-.94-2.06-.94L8.5 2.5l-.94 2.06-2.06.94zm10 10l.94 2.06.94-2.06 2.06-.94-2.06-.94-.94-2.06-.94 2.06-2.06.94z\"/><path d=\"M17.41 7.96l-1.37-1.37c-.4-.4-.92-.59-1.43-.59-.52 0-1.04.2-1.43.59L10.3 9.45l-7.72 7.72c-.78.78-.78 2.05 0 2.83L4 21.41c.39.39.9.59 1.41.59.51 0 1.02-.2 1.41-.59l7.78-7.78 2.81-2.81c.8-.78.8-2.07 0-2.86zM5.41 20L4 18.59l7.72-7.72 1.47 1.35L5.41 20z\"/>\n",
              "  </svg>\n",
              "      </button>\n",
              "      \n",
              "  <style>\n",
              "    .colab-df-container {\n",
              "      display:flex;\n",
              "      flex-wrap:wrap;\n",
              "      gap: 12px;\n",
              "    }\n",
              "\n",
              "    .colab-df-convert {\n",
              "      background-color: #E8F0FE;\n",
              "      border: none;\n",
              "      border-radius: 50%;\n",
              "      cursor: pointer;\n",
              "      display: none;\n",
              "      fill: #1967D2;\n",
              "      height: 32px;\n",
              "      padding: 0 0 0 0;\n",
              "      width: 32px;\n",
              "    }\n",
              "\n",
              "    .colab-df-convert:hover {\n",
              "      background-color: #E2EBFA;\n",
              "      box-shadow: 0px 1px 2px rgba(60, 64, 67, 0.3), 0px 1px 3px 1px rgba(60, 64, 67, 0.15);\n",
              "      fill: #174EA6;\n",
              "    }\n",
              "\n",
              "    [theme=dark] .colab-df-convert {\n",
              "      background-color: #3B4455;\n",
              "      fill: #D2E3FC;\n",
              "    }\n",
              "\n",
              "    [theme=dark] .colab-df-convert:hover {\n",
              "      background-color: #434B5C;\n",
              "      box-shadow: 0px 1px 3px 1px rgba(0, 0, 0, 0.15);\n",
              "      filter: drop-shadow(0px 1px 2px rgba(0, 0, 0, 0.3));\n",
              "      fill: #FFFFFF;\n",
              "    }\n",
              "  </style>\n",
              "\n",
              "      <script>\n",
              "        const buttonEl =\n",
              "          document.querySelector('#df-e7783a4b-37d8-4a93-90dd-321911a84d4a button.colab-df-convert');\n",
              "        buttonEl.style.display =\n",
              "          google.colab.kernel.accessAllowed ? 'block' : 'none';\n",
              "\n",
              "        async function convertToInteractive(key) {\n",
              "          const element = document.querySelector('#df-e7783a4b-37d8-4a93-90dd-321911a84d4a');\n",
              "          const dataTable =\n",
              "            await google.colab.kernel.invokeFunction('convertToInteractive',\n",
              "                                                     [key], {});\n",
              "          if (!dataTable) return;\n",
              "\n",
              "          const docLinkHtml = 'Like what you see? Visit the ' +\n",
              "            '<a target=\"_blank\" href=https://colab.research.google.com/notebooks/data_table.ipynb>data table notebook</a>'\n",
              "            + ' to learn more about interactive tables.';\n",
              "          element.innerHTML = '';\n",
              "          dataTable['output_type'] = 'display_data';\n",
              "          await google.colab.output.renderOutput(dataTable, element);\n",
              "          const docLink = document.createElement('div');\n",
              "          docLink.innerHTML = docLinkHtml;\n",
              "          element.appendChild(docLink);\n",
              "        }\n",
              "      </script>\n",
              "    </div>\n",
              "  </div>\n",
              "  "
            ],
            "text/plain": [
              "                  name  maturity  coupon_rate   price\n",
              "0  Antigua and Barbuda       0.5         1.00   99.50\n",
              "1              Bahamas       1.0         2.00   99.00\n",
              "2           Cape Verde       1.5         3.00   98.00\n",
              "3             Dominica       2.0         3.50   99.50\n",
              "4           East Timor       2.5         4.00  100.50\n",
              "5                 Fiji       3.0         4.50  101.25\n",
              "6              Grenada       3.5         4.75  102.00\n",
              "7                Haiti       4.0         5.00  100.00\n",
              "8              Iceland       4.5         5.50  101.50\n",
              "9              Jamaica       5.0         5.50  100.50"
            ]
          },
          "execution_count": 19,
          "metadata": {},
          "output_type": "execute_result"
        }
      ],
      "source": [
        "table2 = pd.read_csv(\"table2.csv\")\n",
        "table2"
      ]
    },
    {
      "cell_type": "code",
      "execution_count": 20,
      "metadata": {
        "colab": {
          "base_uri": "https://localhost:8080/",
          "height": 363
        },
        "id": "J_Ajplwl20P_",
        "outputId": "d9382dd6-8e6c-4391-e66e-13dc11cce291"
      },
      "outputs": [
        {
          "data": {
            "text/html": [
              "\n",
              "  <div id=\"df-8c4dccb0-d611-49bb-83dc-a487e81cce76\">\n",
              "    <div class=\"colab-df-container\">\n",
              "      <div>\n",
              "<style scoped>\n",
              "    .dataframe tbody tr th:only-of-type {\n",
              "        vertical-align: middle;\n",
              "    }\n",
              "\n",
              "    .dataframe tbody tr th {\n",
              "        vertical-align: top;\n",
              "    }\n",
              "\n",
              "    .dataframe thead th {\n",
              "        text-align: right;\n",
              "    }\n",
              "</style>\n",
              "<table border=\"1\" class=\"dataframe\">\n",
              "  <thead>\n",
              "    <tr style=\"text-align: right;\">\n",
              "      <th></th>\n",
              "      <th>name</th>\n",
              "      <th>maturity</th>\n",
              "      <th>coupon_rate</th>\n",
              "      <th>price</th>\n",
              "      <th>cash_flows</th>\n",
              "    </tr>\n",
              "  </thead>\n",
              "  <tbody>\n",
              "    <tr>\n",
              "      <th>0</th>\n",
              "      <td>Antigua and Barbuda</td>\n",
              "      <td>0.5</td>\n",
              "      <td>1.00</td>\n",
              "      <td>99.50</td>\n",
              "      <td>[100.5, 0.0, 0.0, 0.0, 0.0, 0.0, 0.0, 0.0, 0.0...</td>\n",
              "    </tr>\n",
              "    <tr>\n",
              "      <th>1</th>\n",
              "      <td>Bahamas</td>\n",
              "      <td>1.0</td>\n",
              "      <td>2.00</td>\n",
              "      <td>99.00</td>\n",
              "      <td>[1.0, 101.0, 0.0, 0.0, 0.0, 0.0, 0.0, 0.0, 0.0...</td>\n",
              "    </tr>\n",
              "    <tr>\n",
              "      <th>2</th>\n",
              "      <td>Cape Verde</td>\n",
              "      <td>1.5</td>\n",
              "      <td>3.00</td>\n",
              "      <td>98.00</td>\n",
              "      <td>[1.5, 1.5, 101.5, 0.0, 0.0, 0.0, 0.0, 0.0, 0.0...</td>\n",
              "    </tr>\n",
              "    <tr>\n",
              "      <th>3</th>\n",
              "      <td>Dominica</td>\n",
              "      <td>2.0</td>\n",
              "      <td>3.50</td>\n",
              "      <td>99.50</td>\n",
              "      <td>[1.7500000000000002, 1.7500000000000002, 1.750...</td>\n",
              "    </tr>\n",
              "    <tr>\n",
              "      <th>4</th>\n",
              "      <td>East Timor</td>\n",
              "      <td>2.5</td>\n",
              "      <td>4.00</td>\n",
              "      <td>100.50</td>\n",
              "      <td>[2.0, 2.0, 2.0, 2.0, 102.0, 0.0, 0.0, 0.0, 0.0...</td>\n",
              "    </tr>\n",
              "    <tr>\n",
              "      <th>5</th>\n",
              "      <td>Fiji</td>\n",
              "      <td>3.0</td>\n",
              "      <td>4.50</td>\n",
              "      <td>101.25</td>\n",
              "      <td>[2.25, 2.25, 2.25, 2.25, 2.25, 102.25, 0.0, 0....</td>\n",
              "    </tr>\n",
              "    <tr>\n",
              "      <th>6</th>\n",
              "      <td>Grenada</td>\n",
              "      <td>3.5</td>\n",
              "      <td>4.75</td>\n",
              "      <td>102.00</td>\n",
              "      <td>[2.375, 2.375, 2.375, 2.375, 2.375, 2.375, 102...</td>\n",
              "    </tr>\n",
              "    <tr>\n",
              "      <th>7</th>\n",
              "      <td>Haiti</td>\n",
              "      <td>4.0</td>\n",
              "      <td>5.00</td>\n",
              "      <td>100.00</td>\n",
              "      <td>[2.5, 2.5, 2.5, 2.5, 2.5, 2.5, 2.5, 102.5, 0.0...</td>\n",
              "    </tr>\n",
              "    <tr>\n",
              "      <th>8</th>\n",
              "      <td>Iceland</td>\n",
              "      <td>4.5</td>\n",
              "      <td>5.50</td>\n",
              "      <td>101.50</td>\n",
              "      <td>[2.75, 2.75, 2.75, 2.75, 2.75, 2.75, 2.75, 2.7...</td>\n",
              "    </tr>\n",
              "    <tr>\n",
              "      <th>9</th>\n",
              "      <td>Jamaica</td>\n",
              "      <td>5.0</td>\n",
              "      <td>5.50</td>\n",
              "      <td>100.50</td>\n",
              "      <td>[2.75, 2.75, 2.75, 2.75, 2.75, 2.75, 2.75, 2.7...</td>\n",
              "    </tr>\n",
              "  </tbody>\n",
              "</table>\n",
              "</div>\n",
              "      <button class=\"colab-df-convert\" onclick=\"convertToInteractive('df-8c4dccb0-d611-49bb-83dc-a487e81cce76')\"\n",
              "              title=\"Convert this dataframe to an interactive table.\"\n",
              "              style=\"display:none;\">\n",
              "        \n",
              "  <svg xmlns=\"http://www.w3.org/2000/svg\" height=\"24px\"viewBox=\"0 0 24 24\"\n",
              "       width=\"24px\">\n",
              "    <path d=\"M0 0h24v24H0V0z\" fill=\"none\"/>\n",
              "    <path d=\"M18.56 5.44l.94 2.06.94-2.06 2.06-.94-2.06-.94-.94-2.06-.94 2.06-2.06.94zm-11 1L8.5 8.5l.94-2.06 2.06-.94-2.06-.94L8.5 2.5l-.94 2.06-2.06.94zm10 10l.94 2.06.94-2.06 2.06-.94-2.06-.94-.94-2.06-.94 2.06-2.06.94z\"/><path d=\"M17.41 7.96l-1.37-1.37c-.4-.4-.92-.59-1.43-.59-.52 0-1.04.2-1.43.59L10.3 9.45l-7.72 7.72c-.78.78-.78 2.05 0 2.83L4 21.41c.39.39.9.59 1.41.59.51 0 1.02-.2 1.41-.59l7.78-7.78 2.81-2.81c.8-.78.8-2.07 0-2.86zM5.41 20L4 18.59l7.72-7.72 1.47 1.35L5.41 20z\"/>\n",
              "  </svg>\n",
              "      </button>\n",
              "      \n",
              "  <style>\n",
              "    .colab-df-container {\n",
              "      display:flex;\n",
              "      flex-wrap:wrap;\n",
              "      gap: 12px;\n",
              "    }\n",
              "\n",
              "    .colab-df-convert {\n",
              "      background-color: #E8F0FE;\n",
              "      border: none;\n",
              "      border-radius: 50%;\n",
              "      cursor: pointer;\n",
              "      display: none;\n",
              "      fill: #1967D2;\n",
              "      height: 32px;\n",
              "      padding: 0 0 0 0;\n",
              "      width: 32px;\n",
              "    }\n",
              "\n",
              "    .colab-df-convert:hover {\n",
              "      background-color: #E2EBFA;\n",
              "      box-shadow: 0px 1px 2px rgba(60, 64, 67, 0.3), 0px 1px 3px 1px rgba(60, 64, 67, 0.15);\n",
              "      fill: #174EA6;\n",
              "    }\n",
              "\n",
              "    [theme=dark] .colab-df-convert {\n",
              "      background-color: #3B4455;\n",
              "      fill: #D2E3FC;\n",
              "    }\n",
              "\n",
              "    [theme=dark] .colab-df-convert:hover {\n",
              "      background-color: #434B5C;\n",
              "      box-shadow: 0px 1px 3px 1px rgba(0, 0, 0, 0.15);\n",
              "      filter: drop-shadow(0px 1px 2px rgba(0, 0, 0, 0.3));\n",
              "      fill: #FFFFFF;\n",
              "    }\n",
              "  </style>\n",
              "\n",
              "      <script>\n",
              "        const buttonEl =\n",
              "          document.querySelector('#df-8c4dccb0-d611-49bb-83dc-a487e81cce76 button.colab-df-convert');\n",
              "        buttonEl.style.display =\n",
              "          google.colab.kernel.accessAllowed ? 'block' : 'none';\n",
              "\n",
              "        async function convertToInteractive(key) {\n",
              "          const element = document.querySelector('#df-8c4dccb0-d611-49bb-83dc-a487e81cce76');\n",
              "          const dataTable =\n",
              "            await google.colab.kernel.invokeFunction('convertToInteractive',\n",
              "                                                     [key], {});\n",
              "          if (!dataTable) return;\n",
              "\n",
              "          const docLinkHtml = 'Like what you see? Visit the ' +\n",
              "            '<a target=\"_blank\" href=https://colab.research.google.com/notebooks/data_table.ipynb>data table notebook</a>'\n",
              "            + ' to learn more about interactive tables.';\n",
              "          element.innerHTML = '';\n",
              "          dataTable['output_type'] = 'display_data';\n",
              "          await google.colab.output.renderOutput(dataTable, element);\n",
              "          const docLink = document.createElement('div');\n",
              "          docLink.innerHTML = docLinkHtml;\n",
              "          element.appendChild(docLink);\n",
              "        }\n",
              "      </script>\n",
              "    </div>\n",
              "  </div>\n",
              "  "
            ],
            "text/plain": [
              "                  name  maturity  coupon_rate   price  \\\n",
              "0  Antigua and Barbuda       0.5         1.00   99.50   \n",
              "1              Bahamas       1.0         2.00   99.00   \n",
              "2           Cape Verde       1.5         3.00   98.00   \n",
              "3             Dominica       2.0         3.50   99.50   \n",
              "4           East Timor       2.5         4.00  100.50   \n",
              "5                 Fiji       3.0         4.50  101.25   \n",
              "6              Grenada       3.5         4.75  102.00   \n",
              "7                Haiti       4.0         5.00  100.00   \n",
              "8              Iceland       4.5         5.50  101.50   \n",
              "9              Jamaica       5.0         5.50  100.50   \n",
              "\n",
              "                                          cash_flows  \n",
              "0  [100.5, 0.0, 0.0, 0.0, 0.0, 0.0, 0.0, 0.0, 0.0...  \n",
              "1  [1.0, 101.0, 0.0, 0.0, 0.0, 0.0, 0.0, 0.0, 0.0...  \n",
              "2  [1.5, 1.5, 101.5, 0.0, 0.0, 0.0, 0.0, 0.0, 0.0...  \n",
              "3  [1.7500000000000002, 1.7500000000000002, 1.750...  \n",
              "4  [2.0, 2.0, 2.0, 2.0, 102.0, 0.0, 0.0, 0.0, 0.0...  \n",
              "5  [2.25, 2.25, 2.25, 2.25, 2.25, 102.25, 0.0, 0....  \n",
              "6  [2.375, 2.375, 2.375, 2.375, 2.375, 2.375, 102...  \n",
              "7  [2.5, 2.5, 2.5, 2.5, 2.5, 2.5, 2.5, 102.5, 0.0...  \n",
              "8  [2.75, 2.75, 2.75, 2.75, 2.75, 2.75, 2.75, 2.7...  \n",
              "9  [2.75, 2.75, 2.75, 2.75, 2.75, 2.75, 2.75, 2.7...  "
            ]
          },
          "execution_count": 20,
          "metadata": {},
          "output_type": "execute_result"
        }
      ],
      "source": [
        "# cf is tested, computes well with non-int maturity\n",
        "table2[\"cash_flows\"] = table2.apply(lambda row: generate_cash_flows(maturity=row[\"maturity\"], coupon_rate=row[\"coupon_rate\"]/100, num_annual_payments=2, principle=100), axis=1)\n",
        "\n",
        "for cf in table2[\"cash_flows\"]:\n",
        "    cf.extend([0.0]*(10-len(cf)))\n",
        "\n",
        "table2#.drop(columns=\"cash_flows\", axis=1)\n"
      ]
    },
    {
      "cell_type": "code",
      "execution_count": 21,
      "metadata": {
        "colab": {
          "base_uri": "https://localhost:8080/"
        },
        "id": "Srxx1jF_ERMf",
        "outputId": "83a6e107-ce9b-4cf3-9677-cee03d18d8a0"
      },
      "outputs": [
        {
          "data": {
            "text/plain": [
              "array([[ 1.00000000e+00,  0.00000000e+00,  0.00000000e+00,\n",
              "         0.00000000e+00,  0.00000000e+00,  0.00000000e+00,\n",
              "         0.00000000e+00,  0.00000000e+00,  0.00000000e+00,\n",
              "         0.00000000e+00],\n",
              "       [ 0.00000000e+00,  1.00000000e+00,  0.00000000e+00,\n",
              "         0.00000000e+00,  0.00000000e+00,  0.00000000e+00,\n",
              "         0.00000000e+00,  0.00000000e+00,  0.00000000e+00,\n",
              "         0.00000000e+00],\n",
              "       [ 8.67361738e-19,  8.67361738e-19,  1.00000000e+00,\n",
              "         0.00000000e+00,  0.00000000e+00,  0.00000000e+00,\n",
              "         0.00000000e+00,  0.00000000e+00,  0.00000000e+00,\n",
              "         0.00000000e+00],\n",
              "       [ 5.21802264e-18,  1.74857569e-18, -1.72087126e-18,\n",
              "         1.00000000e+00,  0.00000000e+00,  0.00000000e+00,\n",
              "         0.00000000e+00,  0.00000000e+00,  0.00000000e+00,\n",
              "         0.00000000e+00],\n",
              "       [ 0.00000000e+00,  3.46944695e-18,  3.46944695e-18,\n",
              "         0.00000000e+00,  1.00000000e+00,  0.00000000e+00,\n",
              "         0.00000000e+00,  0.00000000e+00,  0.00000000e+00,\n",
              "         0.00000000e+00],\n",
              "       [ 9.54097912e-18,  2.60208521e-18,  2.60208521e-18,\n",
              "         2.60208521e-18,  2.60208521e-18,  1.00000000e+00,\n",
              "         0.00000000e+00,  0.00000000e+00,  0.00000000e+00,\n",
              "         0.00000000e+00],\n",
              "       [ 2.60208521e-18, -8.67361738e-19, -4.33680869e-18,\n",
              "         2.60208521e-18, -8.67361738e-19, -8.67361738e-19,\n",
              "         1.00000000e+00,  0.00000000e+00,  0.00000000e+00,\n",
              "         0.00000000e+00],\n",
              "       [ 2.60208521e-18, -8.67361738e-19, -8.67361738e-19,\n",
              "         2.60208521e-18, -8.67361738e-19, -8.67361738e-19,\n",
              "        -8.67361738e-19,  1.00000000e+00,  0.00000000e+00,\n",
              "         0.00000000e+00],\n",
              "       [ 5.63785130e-18, -1.30104261e-18, -1.30104261e-18,\n",
              "         5.63785130e-18, -1.30104261e-18,  2.16840434e-18,\n",
              "        -4.77048956e-18,  2.16840434e-18,  1.00000000e+00,\n",
              "         0.00000000e+00],\n",
              "       [ 5.63785130e-18,  2.16840434e-18, -4.77048956e-18,\n",
              "         2.16840434e-18,  2.16840434e-18,  2.16840434e-18,\n",
              "        -1.30104261e-18,  2.16840434e-18,  2.16840434e-18,\n",
              "         1.00000000e+00]])"
            ]
          },
          "execution_count": 21,
          "metadata": {},
          "output_type": "execute_result"
        }
      ],
      "source": [
        "matrix = np.array([cf for cf in table2[\"cash_flows\"]])\n",
        "inverse = np.linalg.inv(matrix) \n",
        "\n",
        "np.dot(inverse, matrix) "
      ]
    },
    {
      "cell_type": "code",
      "execution_count": 22,
      "metadata": {
        "colab": {
          "base_uri": "https://localhost:8080/"
        },
        "id": "VjosUrWtOdRW",
        "outputId": "d63b2b59-5e94-474a-93e0-fd6c3528135f"
      },
      "outputs": [
        {
          "data": {
            "text/plain": [
              "array([0.99004975, 0.97039555, 0.93654514, 0.92806159, 0.9102931 ,\n",
              "       0.8860193 , 0.86592683, 0.81738314, 0.79233232, 0.76139398])"
            ]
          },
          "execution_count": 22,
          "metadata": {},
          "output_type": "execute_result"
        }
      ],
      "source": [
        "B = inverse.dot(np.array([cf for cf in table2[\"price\"]])) \n",
        "B"
      ]
    },
    {
      "cell_type": "code",
      "execution_count": 23,
      "metadata": {
        "id": "4kfKezLuEQ78"
      },
      "outputs": [],
      "source": [
        "T = np.array([cf for cf in table2[\"maturity\"]])"
      ]
    },
    {
      "cell_type": "code",
      "execution_count": 24,
      "metadata": {
        "colab": {
          "base_uri": "https://localhost:8080/"
        },
        "id": "YuXxM10rP5Wi",
        "outputId": "79fc2b7c-34e7-41fe-ff47-7cb172821f4d"
      },
      "outputs": [
        {
          "data": {
            "text/plain": [
              "[0.020201510062877404,\n",
              " 0.03050761421319792,\n",
              " 0.04467416810326941,\n",
              " 0.03803405264816884,\n",
              " 0.038311107968872715,\n",
              " 0.04116351092062476,\n",
              " 0.04198751432831571,\n",
              " 0.05170413432175658,\n",
              " 0.05308888536897727,\n",
              " 0.056034513612836845]"
            ]
          },
          "execution_count": 24,
          "metadata": {},
          "output_type": "execute_result"
        }
      ],
      "source": [
        "# SPOT RATES\n",
        "r_bootstraped = [b**(-1/t) -1 for b,t in zip(B,T)]\n",
        "r_bootstraped"
      ]
    },
    {
      "cell_type": "code",
      "execution_count": 25,
      "metadata": {
        "colab": {
          "base_uri": "https://localhost:8080/"
        },
        "id": "MDNjpwjUaynj",
        "outputId": "d9ba0151-6fea-4a8d-e5df-a254769dc682"
      },
      "outputs": [
        {
          "data": {
            "text/plain": [
              "[-6.661338147750939e-16,\n",
              " 0.0,\n",
              " -2.220446049250313e-16,\n",
              " 0.0,\n",
              " 0.0,\n",
              " 0.0,\n",
              " 0.0,\n",
              " -2.220446049250313e-16,\n",
              " 0.0,\n",
              " 0.0]"
            ]
          },
          "execution_count": 25,
          "metadata": {},
          "output_type": "execute_result"
        }
      ],
      "source": [
        "# PROVERE RADI -> dobro je izracunato\n",
        "\n",
        "import numpy as np\n",
        "\n",
        "def bonds_cf(cr,maturity,compounding,face=100):\n",
        "    frekvencija=maturity*compounding\n",
        "    cf=[face*cr/compounding]*int(frekvencija)\n",
        "    cf[-1]=face*(1+cr/compounding)\n",
        "    return cf\n",
        "\n",
        "liste=list(np.arange(0.5,5.5,0.5))#maturities\n",
        "kuponi=[1/100,2/100,3/100,3.5/100,4/100,4.5/100,4.75/100,5/100,5.5/100,5.5/100]#coupon rates\n",
        "ja=np.zeros([10]*2)      \n",
        "        \n",
        "for i in range(len(liste)):\n",
        "    if len(bonds_cf(kuponi[i],liste[i],2))<10:\n",
        "        ja[i,:]=bonds_cf(kuponi[i],liste[i],2)+[0]*(10-len(bonds_cf(kuponi[i],liste[i],2)))\n",
        "    elif len(bonds_cf(kuponi[i],liste[i],2))==10:\n",
        "        ja[9,:]=bonds_cf(kuponi[9],liste[9],2)\n",
        "\n",
        "cijene=np.array([99.5,99,98,99.5,100.5,101.25,102,100,101.5,100.5])\n",
        "\n",
        "cijene=np.reshape(cijene,(10,1))\n",
        "spot_rates=np.linalg.solve(ja,cijene)\n",
        "\n",
        "t=np.arange(0.5,5.5,0.5)\n",
        "\n",
        "spot_ispravljeno=[]\n",
        "for i in range(len(spot_rates.T[0])):\n",
        "  spot_ispravljeno.append((1/np.power(spot_rates.T[0][i],1/t[i]))-1)\n",
        "\n",
        "[s - R for s, R in zip(spot_ispravljeno, r_bootstraped)]"
      ]
    },
    {
      "cell_type": "code",
      "execution_count": 26,
      "metadata": {
        "colab": {
          "base_uri": "https://localhost:8080/"
        },
        "id": "g-cJhx9rSBG5",
        "outputId": "6db439ff-9cc0-45b1-92dd-b871ecd1cbb5"
      },
      "outputs": [
        {
          "data": {
            "text/plain": [
              "[0.020201510062876737,\n",
              " 0.03050761421319792,\n",
              " 0.044674168103269185,\n",
              " 0.03803405264816884,\n",
              " 0.038311107968872715,\n",
              " 0.04116351092062476,\n",
              " 0.04198751432831571,\n",
              " 0.051704134321756356,\n",
              " 0.05308888536897727,\n",
              " 0.056034513612836845]"
            ]
          },
          "execution_count": 26,
          "metadata": {},
          "output_type": "execute_result"
        }
      ],
      "source": [
        "spot_ispravljeno "
      ]
    },
    {
      "cell_type": "markdown",
      "metadata": {
        "id": "EOCehqtha1bj"
      },
      "source": [
        "(b) Imply the six-month forward rates from the bootstrapped spot rate curve."
      ]
    },
    {
      "cell_type": "markdown",
      "metadata": {
        "id": "OG6TtfN7bVRA"
      },
      "source": [
        "**comment:**\n",
        "For forward rates we use descrete compounding."
      ]
    },
    {
      "cell_type": "code",
      "execution_count": 27,
      "metadata": {
        "colab": {
          "base_uri": "https://localhost:8080/"
        },
        "id": "Z_fvIS6wa2tZ",
        "outputId": "106c7ea1-4170-4086-d529-56afd326c999"
      },
      "outputs": [
        {
          "data": {
            "text/plain": [
              "[0.1423158708879624,\n",
              " 0.19011551826995313,\n",
              " 0.09560938243476047,\n",
              " 0.13971230605966356,\n",
              " 0.16551877648770402,\n",
              " 0.15232670289982847,\n",
              " 0.24369889877741596,\n",
              " 0.17781046971313877,\n",
              " 0.20157828480545065]"
            ]
          },
          "execution_count": 27,
          "metadata": {},
          "output_type": "execute_result"
        }
      ],
      "source": [
        "periodi=np.arange(0.5,5.5,0.5)\n",
        "\n",
        "fr=[]#forward rates\n",
        "for i in range(1,len(periodi)):\n",
        "    a=((((1+spot_ispravljeno[i])**periodi[i])/((1+spot_ispravljeno[i-1])**periodi[i-1]))-1)**0.5 #kvadratni koren zbog 6 mes fw\n",
        "    fr.append(a)\n",
        "fr"
      ]
    },
    {
      "cell_type": "markdown",
      "metadata": {
        "id": "fasltQPua62_"
      },
      "source": [
        "**4. Consider the spot rate curve {r0,t} derived in the Problem 3. Furthermore, assume that a\n",
        "cubic polynomial can be used to fit the spot rate curve, i.e.,**\n",
        "<br> $$\\hat{r}_{0,t} = c_{0} + c_{1}t + c_{2}t^2 + c_{3}t^3.$$"
      ]
    },
    {
      "cell_type": "markdown",
      "metadata": {
        "id": "-VrCUXkVbLdG"
      },
      "source": [
        "(a) Estimate the coefficients ci (i = 1, 2, 3, 4) by choosing only four points on the spot\n",
        "rate curve. Justify your choices of target spot rates.\n",
        "<br>Hint: Create a system of four equations with four variables and cast the problem in a\n",
        "matrix format."
      ]
    },
    {
      "cell_type": "code",
      "execution_count": 28,
      "metadata": {
        "colab": {
          "base_uri": "https://localhost:8080/",
          "height": 282
        },
        "id": "_yWqflGHUXkm",
        "outputId": "ecbb275d-6d79-4e5d-95b3-727471adbeaf"
      },
      "outputs": [
        {
          "data": {
            "text/plain": [
              "[<matplotlib.lines.Line2D at 0x7fa1f3b77810>]"
            ]
          },
          "execution_count": 28,
          "metadata": {},
          "output_type": "execute_result"
        },
        {
          "data": {
            "image/png": "[encoded data removed]",
            "text/plain": [
              "<Figure size 432x288 with 1 Axes>"
            ]
          },
          "metadata": {
            "needs_background": "light"
          },
          "output_type": "display_data"
        }
      ],
      "source": [
        "plt.plot(T, r_bootstraped)"
      ]
    },
    {
      "cell_type": "markdown",
      "metadata": {
        "id": "OU9-kWDRUh3l"
      },
      "source": [
        "We wil pick maturities at indecies 0, 3, 6 and 9"
      ]
    },
    {
      "cell_type": "code",
      "execution_count": 29,
      "metadata": {
        "id": "IeoqjcXMTa7W"
      },
      "outputs": [],
      "source": [
        "T_ind = [0, 3, 6, 9] # 0.5 , 2 , 3.5 , 5"
      ]
    },
    {
      "cell_type": "code",
      "execution_count": 30,
      "metadata": {
        "colab": {
          "base_uri": "https://localhost:8080/"
        },
        "id": "SmDzjj1hU1E1",
        "outputId": "4a9e53e7-8b27-49ca-d64b-a8c701f0a715"
      },
      "outputs": [
        {
          "data": {
            "text/plain": [
              "array([[  1.   ,   0.5  ,   0.25 ,   0.125],\n",
              "       [  1.   ,   2.   ,   4.   ,   8.   ],\n",
              "       [  1.   ,   3.5  ,  12.25 ,  42.875],\n",
              "       [  1.   ,   5.   ,  25.   , 125.   ]])"
            ]
          },
          "execution_count": 30,
          "metadata": {},
          "output_type": "execute_result"
        }
      ],
      "source": [
        "matrix=np.zeros([4,4])\n",
        "\n",
        "def poli(t):\n",
        "    return [1, t, t**2, t**3]\n",
        "\n",
        "matrix[0] = poli(0.5)\n",
        "matrix[1] = poli(2)\n",
        "matrix[2] = poli(3.5)\n",
        "matrix[3] = poli(5)\n",
        "matrix"
      ]
    },
    {
      "cell_type": "code",
      "execution_count": 31,
      "metadata": {
        "id": "idrOtpmMU1BT"
      },
      "outputs": [],
      "source": [
        "inv_mat = np.linalg.inv(matrix)"
      ]
    },
    {
      "cell_type": "code",
      "execution_count": 32,
      "metadata": {
        "colab": {
          "base_uri": "https://localhost:8080/"
        },
        "id": "Mq1l9xN6U0-5",
        "outputId": "aa9ee214-83d8-493e-8fa2-e7a535a58dea"
      },
      "outputs": [
        {
          "data": {
            "text/plain": [
              "array([ 0.00702967,  0.03114133, -0.01018724,  0.00118383])"
            ]
          },
          "execution_count": 32,
          "metadata": {},
          "output_type": "execute_result"
        }
      ],
      "source": [
        "c = inv_mat.dot(np.array([r_bootstraped[0], r_bootstraped[3], r_bootstraped[6], r_bootstraped[9]]))\n",
        "c"
      ]
    },
    {
      "cell_type": "markdown",
      "metadata": {
        "id": "cg65orORWzho"
      },
      "source": [
        "We calculated coefficients $c_i$, and stored them in 'c' array.\n",
        "\n",
        "If we picked other points, polinomial would have much different look. For example, if we picked just the first four dots we would have the following results, which is not covering entire rage well (overfits the early part of rate curve):"
      ]
    },
    {
      "cell_type": "code",
      "execution_count": 33,
      "metadata": {
        "colab": {
          "base_uri": "https://localhost:8080/"
        },
        "id": "_ZmVQKk7bOAQ",
        "outputId": "e0e9efe7-a211-4125-9f37-293963de64ab"
      },
      "outputs": [
        {
          "data": {
            "text/plain": [
              "(0.03842297473722733,\n",
              " -0.08141524422998743,\n",
              " 0.10638937581918696,\n",
              " -0.03288949211322893)"
            ]
          },
          "execution_count": 33,
          "metadata": {},
          "output_type": "execute_result"
        }
      ],
      "source": [
        "matrica=np.zeros([4,4])\n",
        "\n",
        "# these are just first four points, not 0, 3rd, 6th nad 9th as before\n",
        "matrica[0]=[1, 0.5, 0.5**2, 0.5**3]\n",
        "matrica[1]=[1, 1, 1, 1]\n",
        "matrica[2]=[1, 1.5, 1.5**2, 1.5**3]\n",
        "matrica[3]=[1, 2, 2**2, 2**3]\n",
        "\n",
        "r = [spot_ispravljeno[i] for i in range(4)]\n",
        "r = np.array(r)\n",
        "r.reshape(4, 1)\n",
        "\n",
        "c0,c1,c2,c3=np.linalg.solve(matrica,r)\n",
        "\n",
        "#kada se izaberu prve 4 tacke\n",
        "c0,c1,c2,c3"
      ]
    },
    {
      "cell_type": "markdown",
      "metadata": {
        "id": "KTKjZ9E4bPmv"
      },
      "source": [
        "\n",
        "**comment:** we are more interested in more recent spot rates in comparison to more distant ones, as they provide more realistic price since liquidity is better and the larger the time horizon there is more chance for uncertainty."
      ]
    },
    {
      "cell_type": "code",
      "execution_count": 34,
      "metadata": {
        "colab": {
          "base_uri": "https://localhost:8080/",
          "height": 282
        },
        "id": "PoBL7oObXsI-",
        "outputId": "d4b0e0f3-8d3c-44c7-a403-d9443adb96a2"
      },
      "outputs": [
        {
          "data": {
            "text/plain": [
              "<matplotlib.legend.Legend at 0x7fa1f3b25a50>"
            ]
          },
          "execution_count": 34,
          "metadata": {},
          "output_type": "execute_result"
        },
        {
          "data": {
            "image/png": "[encoded data removed]",
            "text/plain": [
              "<Figure size 432x288 with 1 Axes>"
            ]
          },
          "metadata": {
            "needs_background": "light"
          },
          "output_type": "display_data"
        }
      ],
      "source": [
        "def curve0369(t):\n",
        "    return 1*c[0] + t*c[1] + c[2]*t**2 + c[3]*t**3\n",
        "\n",
        "def curve0123(t):\n",
        "    return 1*c0 + t*c1 + c2*t**2 + c3*t**3\n",
        "\n",
        "T_array = np.arange(0.5, 5, 0.1)\n",
        "r0369 = [curve0369(t) for t in T_array]\n",
        "r0123 = [curve0123(t) for t in T_array]\n",
        "\n",
        "plt.plot(T_array, r0369, label = \"0369\")\n",
        "plt.plot(T_array[:18], r0123[:18], label = \"0123\") # overfitted the first part\n",
        "plt.plot(T, r_bootstraped, label = \"bootstraped\")\n",
        "plt.legend()"
      ]
    },
    {
      "cell_type": "markdown",
      "metadata": {
        "id": "ofK198YmbU-w"
      },
      "source": [
        "b) Estimate the coefficients ci (i = 1, 2, 3, 4) by fitting the cubic polynomial to the full\n",
        "set of spot rates.\n",
        "<br><ins>Hint:</ins> Estimate the coefficients by solving the following optimization problem:\n",
        "<br> \n",
        "<br> $$\\min_{c1,c2,c3,c4}\\sum_{t}(r_{0,t} − \\hat{r}_{0,t})^2$$\n",
        "<br>To complete this task you can use, e.g., scipy.optimize in Python.\n"
      ]
    },
    {
      "cell_type": "code",
      "execution_count": 35,
      "metadata": {
        "id": "bsJJGW9gap1T"
      },
      "outputs": [],
      "source": [
        "poli3 = np.polyfit(T, r_bootstraped, deg=3)"
      ]
    },
    {
      "cell_type": "markdown",
      "metadata": {
        "id": "pnaKneXucK0V"
      },
      "source": [
        "(c) Generate theoretical model curves for both approaches (i.e., the reduced and full curve\n",
        "fitting) using the estimated parameters. Draw them in the same graph together with\n",
        "the discrete set of bootstrapped spot rates which were calculated in the Problem 3."
      ]
    },
    {
      "cell_type": "code",
      "execution_count": 36,
      "metadata": {
        "colab": {
          "base_uri": "https://localhost:8080/",
          "height": 282
        },
        "id": "qBV6bMYkbHfY",
        "outputId": "cbe02ed3-b04e-4705-c487-de08656cd0fb"
      },
      "outputs": [
        {
          "data": {
            "text/plain": [
              "<matplotlib.legend.Legend at 0x7fa1f3a4fe50>"
            ]
          },
          "execution_count": 36,
          "metadata": {},
          "output_type": "execute_result"
        },
        {
          "data": {
            "image/png": "[encoded data removed]",
            "text/plain": [
              "<Figure size 432x288 with 1 Axes>"
            ]
          },
          "metadata": {
            "needs_background": "light"
          },
          "output_type": "display_data"
        }
      ],
      "source": [
        "def curve0369(t):\n",
        "    return 1*c[0] + t*c[1] + c[2]*t**2 + c[3]*t**3\n",
        "\n",
        "def fitted(t):\n",
        "    return 1*poli3[3] + t*poli3[2] + poli3[1]*t**2 + poli3[0]*t**3\n",
        "\n",
        "T_array = np.arange(0.5, 5, 0.1)\n",
        "r0369 = [curve0369(t) for t in T_array]\n",
        "fitted_r = [fitted(t) for t in T_array]\n",
        "\n",
        "plt.plot(T_array, r0369, label = \"0369\")\n",
        "plt.plot(T, r_bootstraped, label = \"bootstraped\")\n",
        "plt.plot(T_array, fitted_r, label = \"fitted\")\n",
        "plt.legend()"
      ]
    },
    {
      "cell_type": "markdown",
      "metadata": {
        "id": "d--OWDO0cNIO"
      },
      "source": [
        "(d) Comment your results."
      ]
    },
    {
      "cell_type": "markdown",
      "metadata": {
        "id": "zTzrwTwhcO8-"
      },
      "source": [
        "**comment:** 4points as polinomial qube aproximation give good approximation for the part in which they are fitted, due to the polynomial exponential nature of the expression which must generate curvature in higher orders. MSFE is good aproximation."
      ]
    }
  ],
  "metadata": {
    "colab": {
      "collapsed_sections": [],
      "name": "Fixed Income HW2 - Group 7.ipynb",
      "provenance": []
    },
    "kernelspec": {
      "display_name": "Python 3",
      "name": "python3"
    },
    "language_info": {
      "name": "python"
    }
  },
  "nbformat": 4,
  "nbformat_minor": 0
}
